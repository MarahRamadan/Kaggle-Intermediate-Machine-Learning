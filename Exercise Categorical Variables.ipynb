{
 "cells": [
  {
   "cell_type": "markdown",
   "id": "e5ede2c9",
   "metadata": {
    "papermill": {
     "duration": 0.035387,
     "end_time": "2021-10-27T10:08:28.075116",
     "exception": false,
     "start_time": "2021-10-27T10:08:28.039729",
     "status": "completed"
    },
    "tags": []
   },
   "source": [
    "**This notebook is an exercise in the [Intermediate Machine Learning](https://www.kaggle.com/learn/intermediate-machine-learning) course.  You can reference the tutorial at [this link](https://www.kaggle.com/alexisbcook/categorical-variables).**\n",
    "\n",
    "---\n"
   ]
  },
  {
   "cell_type": "markdown",
   "id": "7f018696",
   "metadata": {
    "papermill": {
     "duration": 0.03344,
     "end_time": "2021-10-27T10:08:28.145088",
     "exception": false,
     "start_time": "2021-10-27T10:08:28.111648",
     "status": "completed"
    },
    "tags": []
   },
   "source": [
    "By encoding **categorical variables**, you'll obtain your best results thus far!\n",
    "\n",
    "# Setup\n",
    "\n",
    "The questions below will give you feedback on your work. Run the following cell to set up the feedback system."
   ]
  },
  {
   "cell_type": "code",
   "execution_count": 1,
   "id": "b8ddee3c",
   "metadata": {
    "execution": {
     "iopub.execute_input": "2021-10-27T10:08:28.218284Z",
     "iopub.status.busy": "2021-10-27T10:08:28.217113Z",
     "iopub.status.idle": "2021-10-27T10:08:28.269338Z",
     "shell.execute_reply": "2021-10-27T10:08:28.270010Z",
     "shell.execute_reply.started": "2021-10-27T09:55:19.695906Z"
    },
    "papermill": {
     "duration": 0.090545,
     "end_time": "2021-10-27T10:08:28.270299",
     "exception": false,
     "start_time": "2021-10-27T10:08:28.179754",
     "status": "completed"
    },
    "tags": []
   },
   "outputs": [
    {
     "name": "stdout",
     "output_type": "stream",
     "text": [
      "Setup Complete\n"
     ]
    }
   ],
   "source": [
    "# Set up code checking\n",
    "import os\n",
    "if not os.path.exists(\"../input/train.csv\"):\n",
    "    os.symlink(\"../input/home-data-for-ml-course/train.csv\", \"../input/train.csv\")  \n",
    "    os.symlink(\"../input/home-data-for-ml-course/test.csv\", \"../input/test.csv\") \n",
    "from learntools.core import binder\n",
    "binder.bind(globals())\n",
    "from learntools.ml_intermediate.ex3 import *\n",
    "print(\"Setup Complete\")"
   ]
  },
  {
   "cell_type": "markdown",
   "id": "32e85ed9",
   "metadata": {
    "papermill": {
     "duration": 0.034032,
     "end_time": "2021-10-27T10:08:28.339055",
     "exception": false,
     "start_time": "2021-10-27T10:08:28.305023",
     "status": "completed"
    },
    "tags": []
   },
   "source": [
    "In this exercise, you will work with data from the [Housing Prices Competition for Kaggle Learn Users](https://www.kaggle.com/c/home-data-for-ml-course). \n",
    "\n",
    "![Ames Housing dataset image](https://i.imgur.com/lTJVG4e.png)\n",
    "\n",
    "Run the next code cell without changes to load the training and validation sets in `X_train`, `X_valid`, `y_train`, and `y_valid`.  The test set is loaded in `X_test`."
   ]
  },
  {
   "cell_type": "code",
   "execution_count": 2,
   "id": "db4dd7c7",
   "metadata": {
    "execution": {
     "iopub.execute_input": "2021-10-27T10:08:28.416489Z",
     "iopub.status.busy": "2021-10-27T10:08:28.415768Z",
     "iopub.status.idle": "2021-10-27T10:08:29.452743Z",
     "shell.execute_reply": "2021-10-27T10:08:29.452153Z",
     "shell.execute_reply.started": "2021-10-27T09:55:19.728808Z"
    },
    "papermill": {
     "duration": 1.079436,
     "end_time": "2021-10-27T10:08:29.452909",
     "exception": false,
     "start_time": "2021-10-27T10:08:28.373473",
     "status": "completed"
    },
    "tags": []
   },
   "outputs": [],
   "source": [
    "import pandas as pd\n",
    "from sklearn.model_selection import train_test_split\n",
    "\n",
    "# Read the data\n",
    "X = pd.read_csv('../input/train.csv', index_col='Id') \n",
    "X_test = pd.read_csv('../input/test.csv', index_col='Id')\n",
    "\n",
    "# Remove rows with missing target, separate target from predictors\n",
    "X.dropna(axis=0, subset=['SalePrice'], inplace=True)\n",
    "y = X.SalePrice\n",
    "X.drop(['SalePrice'], axis=1, inplace=True)\n",
    "\n",
    "# To keep things simple, we'll drop columns with missing values\n",
    "cols_with_missing = [col for col in X.columns if X[col].isnull().any()] \n",
    "X.drop(cols_with_missing, axis=1, inplace=True)\n",
    "X_test.drop(cols_with_missing, axis=1, inplace=True)\n",
    "\n",
    "# Break off validation set from training data\n",
    "X_train, X_valid, y_train, y_valid = train_test_split(X, y,\n",
    "                                                      train_size=0.8, test_size=0.2,\n",
    "                                                      random_state=0)"
   ]
  },
  {
   "cell_type": "markdown",
   "id": "c6e3852a",
   "metadata": {
    "papermill": {
     "duration": 0.033866,
     "end_time": "2021-10-27T10:08:29.521271",
     "exception": false,
     "start_time": "2021-10-27T10:08:29.487405",
     "status": "completed"
    },
    "tags": []
   },
   "source": [
    "Use the next code cell to print the first five rows of the data."
   ]
  },
  {
   "cell_type": "code",
   "execution_count": 3,
   "id": "1829bfc0",
   "metadata": {
    "execution": {
     "iopub.execute_input": "2021-10-27T10:08:29.593860Z",
     "iopub.status.busy": "2021-10-27T10:08:29.592838Z",
     "iopub.status.idle": "2021-10-27T10:08:29.621446Z",
     "shell.execute_reply": "2021-10-27T10:08:29.621976Z",
     "shell.execute_reply.started": "2021-10-27T09:55:19.832023Z"
    },
    "papermill": {
     "duration": 0.066536,
     "end_time": "2021-10-27T10:08:29.622149",
     "exception": false,
     "start_time": "2021-10-27T10:08:29.555613",
     "status": "completed"
    },
    "tags": []
   },
   "outputs": [
    {
     "data": {
      "text/html": [
       "<div>\n",
       "<style scoped>\n",
       "    .dataframe tbody tr th:only-of-type {\n",
       "        vertical-align: middle;\n",
       "    }\n",
       "\n",
       "    .dataframe tbody tr th {\n",
       "        vertical-align: top;\n",
       "    }\n",
       "\n",
       "    .dataframe thead th {\n",
       "        text-align: right;\n",
       "    }\n",
       "</style>\n",
       "<table border=\"1\" class=\"dataframe\">\n",
       "  <thead>\n",
       "    <tr style=\"text-align: right;\">\n",
       "      <th></th>\n",
       "      <th>MSSubClass</th>\n",
       "      <th>MSZoning</th>\n",
       "      <th>LotArea</th>\n",
       "      <th>Street</th>\n",
       "      <th>LotShape</th>\n",
       "      <th>LandContour</th>\n",
       "      <th>Utilities</th>\n",
       "      <th>LotConfig</th>\n",
       "      <th>LandSlope</th>\n",
       "      <th>Neighborhood</th>\n",
       "      <th>...</th>\n",
       "      <th>OpenPorchSF</th>\n",
       "      <th>EnclosedPorch</th>\n",
       "      <th>3SsnPorch</th>\n",
       "      <th>ScreenPorch</th>\n",
       "      <th>PoolArea</th>\n",
       "      <th>MiscVal</th>\n",
       "      <th>MoSold</th>\n",
       "      <th>YrSold</th>\n",
       "      <th>SaleType</th>\n",
       "      <th>SaleCondition</th>\n",
       "    </tr>\n",
       "    <tr>\n",
       "      <th>Id</th>\n",
       "      <th></th>\n",
       "      <th></th>\n",
       "      <th></th>\n",
       "      <th></th>\n",
       "      <th></th>\n",
       "      <th></th>\n",
       "      <th></th>\n",
       "      <th></th>\n",
       "      <th></th>\n",
       "      <th></th>\n",
       "      <th></th>\n",
       "      <th></th>\n",
       "      <th></th>\n",
       "      <th></th>\n",
       "      <th></th>\n",
       "      <th></th>\n",
       "      <th></th>\n",
       "      <th></th>\n",
       "      <th></th>\n",
       "      <th></th>\n",
       "      <th></th>\n",
       "    </tr>\n",
       "  </thead>\n",
       "  <tbody>\n",
       "    <tr>\n",
       "      <th>619</th>\n",
       "      <td>20</td>\n",
       "      <td>RL</td>\n",
       "      <td>11694</td>\n",
       "      <td>Pave</td>\n",
       "      <td>Reg</td>\n",
       "      <td>Lvl</td>\n",
       "      <td>AllPub</td>\n",
       "      <td>Inside</td>\n",
       "      <td>Gtl</td>\n",
       "      <td>NridgHt</td>\n",
       "      <td>...</td>\n",
       "      <td>108</td>\n",
       "      <td>0</td>\n",
       "      <td>0</td>\n",
       "      <td>260</td>\n",
       "      <td>0</td>\n",
       "      <td>0</td>\n",
       "      <td>7</td>\n",
       "      <td>2007</td>\n",
       "      <td>New</td>\n",
       "      <td>Partial</td>\n",
       "    </tr>\n",
       "    <tr>\n",
       "      <th>871</th>\n",
       "      <td>20</td>\n",
       "      <td>RL</td>\n",
       "      <td>6600</td>\n",
       "      <td>Pave</td>\n",
       "      <td>Reg</td>\n",
       "      <td>Lvl</td>\n",
       "      <td>AllPub</td>\n",
       "      <td>Inside</td>\n",
       "      <td>Gtl</td>\n",
       "      <td>NAmes</td>\n",
       "      <td>...</td>\n",
       "      <td>0</td>\n",
       "      <td>0</td>\n",
       "      <td>0</td>\n",
       "      <td>0</td>\n",
       "      <td>0</td>\n",
       "      <td>0</td>\n",
       "      <td>8</td>\n",
       "      <td>2009</td>\n",
       "      <td>WD</td>\n",
       "      <td>Normal</td>\n",
       "    </tr>\n",
       "    <tr>\n",
       "      <th>93</th>\n",
       "      <td>30</td>\n",
       "      <td>RL</td>\n",
       "      <td>13360</td>\n",
       "      <td>Pave</td>\n",
       "      <td>IR1</td>\n",
       "      <td>HLS</td>\n",
       "      <td>AllPub</td>\n",
       "      <td>Inside</td>\n",
       "      <td>Gtl</td>\n",
       "      <td>Crawfor</td>\n",
       "      <td>...</td>\n",
       "      <td>0</td>\n",
       "      <td>44</td>\n",
       "      <td>0</td>\n",
       "      <td>0</td>\n",
       "      <td>0</td>\n",
       "      <td>0</td>\n",
       "      <td>8</td>\n",
       "      <td>2009</td>\n",
       "      <td>WD</td>\n",
       "      <td>Normal</td>\n",
       "    </tr>\n",
       "    <tr>\n",
       "      <th>818</th>\n",
       "      <td>20</td>\n",
       "      <td>RL</td>\n",
       "      <td>13265</td>\n",
       "      <td>Pave</td>\n",
       "      <td>IR1</td>\n",
       "      <td>Lvl</td>\n",
       "      <td>AllPub</td>\n",
       "      <td>CulDSac</td>\n",
       "      <td>Gtl</td>\n",
       "      <td>Mitchel</td>\n",
       "      <td>...</td>\n",
       "      <td>59</td>\n",
       "      <td>0</td>\n",
       "      <td>0</td>\n",
       "      <td>0</td>\n",
       "      <td>0</td>\n",
       "      <td>0</td>\n",
       "      <td>7</td>\n",
       "      <td>2008</td>\n",
       "      <td>WD</td>\n",
       "      <td>Normal</td>\n",
       "    </tr>\n",
       "    <tr>\n",
       "      <th>303</th>\n",
       "      <td>20</td>\n",
       "      <td>RL</td>\n",
       "      <td>13704</td>\n",
       "      <td>Pave</td>\n",
       "      <td>IR1</td>\n",
       "      <td>Lvl</td>\n",
       "      <td>AllPub</td>\n",
       "      <td>Corner</td>\n",
       "      <td>Gtl</td>\n",
       "      <td>CollgCr</td>\n",
       "      <td>...</td>\n",
       "      <td>81</td>\n",
       "      <td>0</td>\n",
       "      <td>0</td>\n",
       "      <td>0</td>\n",
       "      <td>0</td>\n",
       "      <td>0</td>\n",
       "      <td>1</td>\n",
       "      <td>2006</td>\n",
       "      <td>WD</td>\n",
       "      <td>Normal</td>\n",
       "    </tr>\n",
       "  </tbody>\n",
       "</table>\n",
       "<p>5 rows × 60 columns</p>\n",
       "</div>"
      ],
      "text/plain": [
       "     MSSubClass MSZoning  LotArea Street LotShape LandContour Utilities  \\\n",
       "Id                                                                        \n",
       "619          20       RL    11694   Pave      Reg         Lvl    AllPub   \n",
       "871          20       RL     6600   Pave      Reg         Lvl    AllPub   \n",
       "93           30       RL    13360   Pave      IR1         HLS    AllPub   \n",
       "818          20       RL    13265   Pave      IR1         Lvl    AllPub   \n",
       "303          20       RL    13704   Pave      IR1         Lvl    AllPub   \n",
       "\n",
       "    LotConfig LandSlope Neighborhood  ... OpenPorchSF EnclosedPorch 3SsnPorch  \\\n",
       "Id                                    ...                                       \n",
       "619    Inside       Gtl      NridgHt  ...         108             0         0   \n",
       "871    Inside       Gtl        NAmes  ...           0             0         0   \n",
       "93     Inside       Gtl      Crawfor  ...           0            44         0   \n",
       "818   CulDSac       Gtl      Mitchel  ...          59             0         0   \n",
       "303    Corner       Gtl      CollgCr  ...          81             0         0   \n",
       "\n",
       "    ScreenPorch  PoolArea  MiscVal  MoSold  YrSold SaleType SaleCondition  \n",
       "Id                                                                         \n",
       "619         260         0        0       7    2007      New       Partial  \n",
       "871           0         0        0       8    2009       WD        Normal  \n",
       "93            0         0        0       8    2009       WD        Normal  \n",
       "818           0         0        0       7    2008       WD        Normal  \n",
       "303           0         0        0       1    2006       WD        Normal  \n",
       "\n",
       "[5 rows x 60 columns]"
      ]
     },
     "execution_count": 3,
     "metadata": {},
     "output_type": "execute_result"
    }
   ],
   "source": [
    "X_train.head()"
   ]
  },
  {
   "cell_type": "markdown",
   "id": "a1bc76f0",
   "metadata": {
    "papermill": {
     "duration": 0.034508,
     "end_time": "2021-10-27T10:08:29.692116",
     "exception": false,
     "start_time": "2021-10-27T10:08:29.657608",
     "status": "completed"
    },
    "tags": []
   },
   "source": [
    "Notice that the dataset contains both numerical and categorical variables.  You'll need to encode the categorical data before training a model.\n",
    "\n",
    "To compare different models, you'll use the same `score_dataset()` function from the tutorial.  This function reports the [mean absolute error](https://en.wikipedia.org/wiki/Mean_absolute_error) (MAE) from a random forest model."
   ]
  },
  {
   "cell_type": "code",
   "execution_count": 4,
   "id": "7c6858f3",
   "metadata": {
    "execution": {
     "iopub.execute_input": "2021-10-27T10:08:29.768137Z",
     "iopub.status.busy": "2021-10-27T10:08:29.767408Z",
     "iopub.status.idle": "2021-10-27T10:08:30.065840Z",
     "shell.execute_reply": "2021-10-27T10:08:30.066400Z",
     "shell.execute_reply.started": "2021-10-27T09:55:19.862716Z"
    },
    "papermill": {
     "duration": 0.339611,
     "end_time": "2021-10-27T10:08:30.066594",
     "exception": false,
     "start_time": "2021-10-27T10:08:29.726983",
     "status": "completed"
    },
    "tags": []
   },
   "outputs": [],
   "source": [
    "from sklearn.ensemble import RandomForestRegressor\n",
    "from sklearn.metrics import mean_absolute_error\n",
    "\n",
    "# function for comparing different approaches\n",
    "def score_dataset(X_train, X_valid, y_train, y_valid):\n",
    "    model = RandomForestRegressor(n_estimators=100, random_state=0)\n",
    "    model.fit(X_train, y_train)\n",
    "    preds = model.predict(X_valid)\n",
    "    return mean_absolute_error(y_valid, preds)"
   ]
  },
  {
   "cell_type": "markdown",
   "id": "2455637e",
   "metadata": {
    "papermill": {
     "duration": 0.034603,
     "end_time": "2021-10-27T10:08:30.136305",
     "exception": false,
     "start_time": "2021-10-27T10:08:30.101702",
     "status": "completed"
    },
    "tags": []
   },
   "source": [
    "# Step 1: Drop columns with categorical data\n",
    "\n",
    "You'll get started with the most straightforward approach.  Use the code cell below to preprocess the data in `X_train` and `X_valid` to remove columns with categorical data.  Set the preprocessed DataFrames to `drop_X_train` and `drop_X_valid`, respectively.  "
   ]
  },
  {
   "cell_type": "code",
   "execution_count": 5,
   "id": "60b7698a",
   "metadata": {
    "execution": {
     "iopub.execute_input": "2021-10-27T10:08:30.271970Z",
     "iopub.status.busy": "2021-10-27T10:08:30.271167Z",
     "iopub.status.idle": "2021-10-27T10:08:30.274911Z",
     "shell.execute_reply": "2021-10-27T10:08:30.274242Z",
     "shell.execute_reply.started": "2021-10-27T09:55:19.871670Z"
    },
    "papermill": {
     "duration": 0.103454,
     "end_time": "2021-10-27T10:08:30.275058",
     "exception": false,
     "start_time": "2021-10-27T10:08:30.171604",
     "status": "completed"
    },
    "tags": []
   },
   "outputs": [],
   "source": [
    "X_train_c = X_train.copy()\n",
    "X_valid_c = X_valid.copy()"
   ]
  },
  {
   "cell_type": "code",
   "execution_count": 6,
   "id": "a126d8a4",
   "metadata": {
    "execution": {
     "iopub.execute_input": "2021-10-27T10:08:30.350940Z",
     "iopub.status.busy": "2021-10-27T10:08:30.350248Z",
     "iopub.status.idle": "2021-10-27T10:08:30.358779Z",
     "shell.execute_reply": "2021-10-27T10:08:30.359353Z",
     "shell.execute_reply.started": "2021-10-27T09:55:19.884100Z"
    },
    "papermill": {
     "duration": 0.04935,
     "end_time": "2021-10-27T10:08:30.359547",
     "exception": false,
     "start_time": "2021-10-27T10:08:30.310197",
     "status": "completed"
    },
    "tags": []
   },
   "outputs": [],
   "source": [
    "cols_catg = [col for col in X_train_c.columns if (X_train_c[col].dtypes == 'object')]\n",
    "X_train_c.drop(cols_catg, axis=1, inplace=True)"
   ]
  },
  {
   "cell_type": "code",
   "execution_count": 7,
   "id": "738fb5af",
   "metadata": {
    "execution": {
     "iopub.execute_input": "2021-10-27T10:08:30.434282Z",
     "iopub.status.busy": "2021-10-27T10:08:30.433658Z",
     "iopub.status.idle": "2021-10-27T10:08:30.449685Z",
     "shell.execute_reply": "2021-10-27T10:08:30.450310Z",
     "shell.execute_reply.started": "2021-10-27T09:55:19.906527Z"
    },
    "papermill": {
     "duration": 0.054549,
     "end_time": "2021-10-27T10:08:30.450483",
     "exception": false,
     "start_time": "2021-10-27T10:08:30.395934",
     "status": "completed"
    },
    "tags": []
   },
   "outputs": [
    {
     "data": {
      "text/html": [
       "<div>\n",
       "<style scoped>\n",
       "    .dataframe tbody tr th:only-of-type {\n",
       "        vertical-align: middle;\n",
       "    }\n",
       "\n",
       "    .dataframe tbody tr th {\n",
       "        vertical-align: top;\n",
       "    }\n",
       "\n",
       "    .dataframe thead th {\n",
       "        text-align: right;\n",
       "    }\n",
       "</style>\n",
       "<table border=\"1\" class=\"dataframe\">\n",
       "  <thead>\n",
       "    <tr style=\"text-align: right;\">\n",
       "      <th></th>\n",
       "      <th>MSSubClass</th>\n",
       "      <th>LotArea</th>\n",
       "      <th>OverallQual</th>\n",
       "      <th>OverallCond</th>\n",
       "      <th>YearBuilt</th>\n",
       "      <th>YearRemodAdd</th>\n",
       "      <th>BsmtFinSF1</th>\n",
       "      <th>BsmtFinSF2</th>\n",
       "      <th>BsmtUnfSF</th>\n",
       "      <th>TotalBsmtSF</th>\n",
       "      <th>...</th>\n",
       "      <th>GarageArea</th>\n",
       "      <th>WoodDeckSF</th>\n",
       "      <th>OpenPorchSF</th>\n",
       "      <th>EnclosedPorch</th>\n",
       "      <th>3SsnPorch</th>\n",
       "      <th>ScreenPorch</th>\n",
       "      <th>PoolArea</th>\n",
       "      <th>MiscVal</th>\n",
       "      <th>MoSold</th>\n",
       "      <th>YrSold</th>\n",
       "    </tr>\n",
       "    <tr>\n",
       "      <th>Id</th>\n",
       "      <th></th>\n",
       "      <th></th>\n",
       "      <th></th>\n",
       "      <th></th>\n",
       "      <th></th>\n",
       "      <th></th>\n",
       "      <th></th>\n",
       "      <th></th>\n",
       "      <th></th>\n",
       "      <th></th>\n",
       "      <th></th>\n",
       "      <th></th>\n",
       "      <th></th>\n",
       "      <th></th>\n",
       "      <th></th>\n",
       "      <th></th>\n",
       "      <th></th>\n",
       "      <th></th>\n",
       "      <th></th>\n",
       "      <th></th>\n",
       "      <th></th>\n",
       "    </tr>\n",
       "  </thead>\n",
       "  <tbody>\n",
       "    <tr>\n",
       "      <th>619</th>\n",
       "      <td>20</td>\n",
       "      <td>11694</td>\n",
       "      <td>9</td>\n",
       "      <td>5</td>\n",
       "      <td>2007</td>\n",
       "      <td>2007</td>\n",
       "      <td>48</td>\n",
       "      <td>0</td>\n",
       "      <td>1774</td>\n",
       "      <td>1822</td>\n",
       "      <td>...</td>\n",
       "      <td>774</td>\n",
       "      <td>0</td>\n",
       "      <td>108</td>\n",
       "      <td>0</td>\n",
       "      <td>0</td>\n",
       "      <td>260</td>\n",
       "      <td>0</td>\n",
       "      <td>0</td>\n",
       "      <td>7</td>\n",
       "      <td>2007</td>\n",
       "    </tr>\n",
       "    <tr>\n",
       "      <th>871</th>\n",
       "      <td>20</td>\n",
       "      <td>6600</td>\n",
       "      <td>5</td>\n",
       "      <td>5</td>\n",
       "      <td>1962</td>\n",
       "      <td>1962</td>\n",
       "      <td>0</td>\n",
       "      <td>0</td>\n",
       "      <td>894</td>\n",
       "      <td>894</td>\n",
       "      <td>...</td>\n",
       "      <td>308</td>\n",
       "      <td>0</td>\n",
       "      <td>0</td>\n",
       "      <td>0</td>\n",
       "      <td>0</td>\n",
       "      <td>0</td>\n",
       "      <td>0</td>\n",
       "      <td>0</td>\n",
       "      <td>8</td>\n",
       "      <td>2009</td>\n",
       "    </tr>\n",
       "    <tr>\n",
       "      <th>93</th>\n",
       "      <td>30</td>\n",
       "      <td>13360</td>\n",
       "      <td>5</td>\n",
       "      <td>7</td>\n",
       "      <td>1921</td>\n",
       "      <td>2006</td>\n",
       "      <td>713</td>\n",
       "      <td>0</td>\n",
       "      <td>163</td>\n",
       "      <td>876</td>\n",
       "      <td>...</td>\n",
       "      <td>432</td>\n",
       "      <td>0</td>\n",
       "      <td>0</td>\n",
       "      <td>44</td>\n",
       "      <td>0</td>\n",
       "      <td>0</td>\n",
       "      <td>0</td>\n",
       "      <td>0</td>\n",
       "      <td>8</td>\n",
       "      <td>2009</td>\n",
       "    </tr>\n",
       "    <tr>\n",
       "      <th>818</th>\n",
       "      <td>20</td>\n",
       "      <td>13265</td>\n",
       "      <td>8</td>\n",
       "      <td>5</td>\n",
       "      <td>2002</td>\n",
       "      <td>2002</td>\n",
       "      <td>1218</td>\n",
       "      <td>0</td>\n",
       "      <td>350</td>\n",
       "      <td>1568</td>\n",
       "      <td>...</td>\n",
       "      <td>857</td>\n",
       "      <td>150</td>\n",
       "      <td>59</td>\n",
       "      <td>0</td>\n",
       "      <td>0</td>\n",
       "      <td>0</td>\n",
       "      <td>0</td>\n",
       "      <td>0</td>\n",
       "      <td>7</td>\n",
       "      <td>2008</td>\n",
       "    </tr>\n",
       "    <tr>\n",
       "      <th>303</th>\n",
       "      <td>20</td>\n",
       "      <td>13704</td>\n",
       "      <td>7</td>\n",
       "      <td>5</td>\n",
       "      <td>2001</td>\n",
       "      <td>2002</td>\n",
       "      <td>0</td>\n",
       "      <td>0</td>\n",
       "      <td>1541</td>\n",
       "      <td>1541</td>\n",
       "      <td>...</td>\n",
       "      <td>843</td>\n",
       "      <td>468</td>\n",
       "      <td>81</td>\n",
       "      <td>0</td>\n",
       "      <td>0</td>\n",
       "      <td>0</td>\n",
       "      <td>0</td>\n",
       "      <td>0</td>\n",
       "      <td>1</td>\n",
       "      <td>2006</td>\n",
       "    </tr>\n",
       "  </tbody>\n",
       "</table>\n",
       "<p>5 rows × 33 columns</p>\n",
       "</div>"
      ],
      "text/plain": [
       "     MSSubClass  LotArea  OverallQual  OverallCond  YearBuilt  YearRemodAdd  \\\n",
       "Id                                                                            \n",
       "619          20    11694            9            5       2007          2007   \n",
       "871          20     6600            5            5       1962          1962   \n",
       "93           30    13360            5            7       1921          2006   \n",
       "818          20    13265            8            5       2002          2002   \n",
       "303          20    13704            7            5       2001          2002   \n",
       "\n",
       "     BsmtFinSF1  BsmtFinSF2  BsmtUnfSF  TotalBsmtSF  ...  GarageArea  \\\n",
       "Id                                                   ...               \n",
       "619          48           0       1774         1822  ...         774   \n",
       "871           0           0        894          894  ...         308   \n",
       "93          713           0        163          876  ...         432   \n",
       "818        1218           0        350         1568  ...         857   \n",
       "303           0           0       1541         1541  ...         843   \n",
       "\n",
       "     WoodDeckSF  OpenPorchSF  EnclosedPorch  3SsnPorch  ScreenPorch  PoolArea  \\\n",
       "Id                                                                              \n",
       "619           0          108              0          0          260         0   \n",
       "871           0            0              0          0            0         0   \n",
       "93            0            0             44          0            0         0   \n",
       "818         150           59              0          0            0         0   \n",
       "303         468           81              0          0            0         0   \n",
       "\n",
       "     MiscVal  MoSold  YrSold  \n",
       "Id                            \n",
       "619        0       7    2007  \n",
       "871        0       8    2009  \n",
       "93         0       8    2009  \n",
       "818        0       7    2008  \n",
       "303        0       1    2006  \n",
       "\n",
       "[5 rows x 33 columns]"
      ]
     },
     "execution_count": 7,
     "metadata": {},
     "output_type": "execute_result"
    }
   ],
   "source": [
    "X_train_c.head()"
   ]
  },
  {
   "cell_type": "code",
   "execution_count": 8,
   "id": "3630cefc",
   "metadata": {
    "execution": {
     "iopub.execute_input": "2021-10-27T10:08:30.525582Z",
     "iopub.status.busy": "2021-10-27T10:08:30.524855Z",
     "iopub.status.idle": "2021-10-27T10:08:30.529408Z",
     "shell.execute_reply": "2021-10-27T10:08:30.529991Z",
     "shell.execute_reply.started": "2021-10-27T09:55:19.933394Z"
    },
    "papermill": {
     "duration": 0.043838,
     "end_time": "2021-10-27T10:08:30.530162",
     "exception": false,
     "start_time": "2021-10-27T10:08:30.486324",
     "status": "completed"
    },
    "tags": []
   },
   "outputs": [],
   "source": [
    "X_valid_c.drop(cols_catg,axis =1, inplace=True)"
   ]
  },
  {
   "cell_type": "code",
   "execution_count": 9,
   "id": "7f6004c6",
   "metadata": {
    "execution": {
     "iopub.execute_input": "2021-10-27T10:08:30.605286Z",
     "iopub.status.busy": "2021-10-27T10:08:30.604570Z",
     "iopub.status.idle": "2021-10-27T10:08:30.611480Z",
     "shell.execute_reply": "2021-10-27T10:08:30.612041Z",
     "shell.execute_reply.started": "2021-10-27T09:55:19.943147Z"
    },
    "papermill": {
     "duration": 0.046035,
     "end_time": "2021-10-27T10:08:30.612223",
     "exception": false,
     "start_time": "2021-10-27T10:08:30.566188",
     "status": "completed"
    },
    "tags": []
   },
   "outputs": [
    {
     "data": {
      "application/javascript": [
       "parent.postMessage({\"jupyterEvent\": \"custom.exercise_interaction\", \"data\": {\"outcomeType\": 1, \"valueTowardsCompletion\": 0.5, \"interactionType\": 1, \"questionType\": 2, \"questionId\": \"1_Drop\", \"learnToolsVersion\": \"0.3.4\", \"failureMessage\": \"\", \"exceptionClass\": \"\", \"trace\": \"\"}}, \"*\")"
      ],
      "text/plain": [
       "<IPython.core.display.Javascript object>"
      ]
     },
     "metadata": {},
     "output_type": "display_data"
    },
    {
     "data": {
      "text/markdown": [
       "<span style=\"color:#33cc33\">Correct</span>"
      ],
      "text/plain": [
       "Correct"
      ]
     },
     "metadata": {},
     "output_type": "display_data"
    }
   ],
   "source": [
    "# Fill in the lines below: drop columns in training and validation data\n",
    "drop_X_train = X_train_c\n",
    "drop_X_valid = X_valid_c\n",
    "\n",
    "# Check your answers\n",
    "step_1.check()"
   ]
  },
  {
   "cell_type": "code",
   "execution_count": 10,
   "id": "7c053b1b",
   "metadata": {
    "execution": {
     "iopub.execute_input": "2021-10-27T10:08:30.689309Z",
     "iopub.status.busy": "2021-10-27T10:08:30.688599Z",
     "iopub.status.idle": "2021-10-27T10:08:30.691249Z",
     "shell.execute_reply": "2021-10-27T10:08:30.691859Z",
     "shell.execute_reply.started": "2021-10-27T09:55:19.960717Z"
    },
    "papermill": {
     "duration": 0.042908,
     "end_time": "2021-10-27T10:08:30.692038",
     "exception": false,
     "start_time": "2021-10-27T10:08:30.649130",
     "status": "completed"
    },
    "tags": []
   },
   "outputs": [],
   "source": [
    "# Lines below will give you a hint or solution code\n",
    "#step_1.hint()\n",
    "#step_1.solution()"
   ]
  },
  {
   "cell_type": "markdown",
   "id": "41138f6b",
   "metadata": {
    "papermill": {
     "duration": 0.037198,
     "end_time": "2021-10-27T10:08:30.766052",
     "exception": false,
     "start_time": "2021-10-27T10:08:30.728854",
     "status": "completed"
    },
    "tags": []
   },
   "source": [
    "Run the next code cell to get the MAE for this approach."
   ]
  },
  {
   "cell_type": "code",
   "execution_count": 11,
   "id": "83421f6e",
   "metadata": {
    "execution": {
     "iopub.execute_input": "2021-10-27T10:08:30.843108Z",
     "iopub.status.busy": "2021-10-27T10:08:30.842418Z",
     "iopub.status.idle": "2021-10-27T10:08:32.091792Z",
     "shell.execute_reply": "2021-10-27T10:08:32.092366Z",
     "shell.execute_reply.started": "2021-10-27T09:55:19.968733Z"
    },
    "papermill": {
     "duration": 1.289566,
     "end_time": "2021-10-27T10:08:32.092580",
     "exception": false,
     "start_time": "2021-10-27T10:08:30.803014",
     "status": "completed"
    },
    "tags": []
   },
   "outputs": [
    {
     "name": "stdout",
     "output_type": "stream",
     "text": [
      "MAE from Approach 1 (Drop categorical variables):\n",
      "17837.82570776256\n"
     ]
    }
   ],
   "source": [
    "print(\"MAE from Approach 1 (Drop categorical variables):\")\n",
    "print(score_dataset(drop_X_train, drop_X_valid, y_train, y_valid))"
   ]
  },
  {
   "cell_type": "markdown",
   "id": "ea590565",
   "metadata": {
    "papermill": {
     "duration": 0.038341,
     "end_time": "2021-10-27T10:08:32.170573",
     "exception": false,
     "start_time": "2021-10-27T10:08:32.132232",
     "status": "completed"
    },
    "tags": []
   },
   "source": [
    "Before jumping into ordinal encoding, we'll investigate the dataset.  Specifically, we'll look at the `'Condition2'` column.  The code cell below prints the unique entries in both the training and validation sets."
   ]
  },
  {
   "cell_type": "code",
   "execution_count": 12,
   "id": "fb9cdcac",
   "metadata": {
    "execution": {
     "iopub.execute_input": "2021-10-27T10:08:32.252972Z",
     "iopub.status.busy": "2021-10-27T10:08:32.252214Z",
     "iopub.status.idle": "2021-10-27T10:08:32.259102Z",
     "shell.execute_reply": "2021-10-27T10:08:32.259671Z",
     "shell.execute_reply.started": "2021-10-27T09:55:21.238750Z"
    },
    "papermill": {
     "duration": 0.049866,
     "end_time": "2021-10-27T10:08:32.259846",
     "exception": false,
     "start_time": "2021-10-27T10:08:32.209980",
     "status": "completed"
    },
    "tags": []
   },
   "outputs": [
    {
     "name": "stdout",
     "output_type": "stream",
     "text": [
      "Unique values in 'Condition2' column in training data: ['Norm' 'PosA' 'Feedr' 'PosN' 'Artery' 'RRAe']\n",
      "\n",
      "Unique values in 'Condition2' column in validation data: ['Norm' 'RRAn' 'RRNn' 'Artery' 'Feedr' 'PosN']\n"
     ]
    }
   ],
   "source": [
    "print(\"Unique values in 'Condition2' column in training data:\", X_train['Condition2'].unique())\n",
    "print(\"\\nUnique values in 'Condition2' column in validation data:\", X_valid['Condition2'].unique())"
   ]
  },
  {
   "cell_type": "markdown",
   "id": "cfccd91b",
   "metadata": {
    "papermill": {
     "duration": 0.037476,
     "end_time": "2021-10-27T10:08:32.335432",
     "exception": false,
     "start_time": "2021-10-27T10:08:32.297956",
     "status": "completed"
    },
    "tags": []
   },
   "source": [
    "# Step 2: Ordinal encoding\n",
    "\n",
    "### Part A\n",
    "\n",
    "If you now write code to: \n",
    "- fit an ordinal encoder to the training data, and then \n",
    "- use it to transform both the training and validation data, \n",
    "\n",
    "you'll get an error.  Can you see why this is the case?  (_You'll need  to use the above output to answer this question._)"
   ]
  },
  {
   "cell_type": "code",
   "execution_count": 13,
   "id": "ef6ca89b",
   "metadata": {
    "execution": {
     "iopub.execute_input": "2021-10-27T10:08:32.415176Z",
     "iopub.status.busy": "2021-10-27T10:08:32.414402Z",
     "iopub.status.idle": "2021-10-27T10:08:32.422248Z",
     "shell.execute_reply": "2021-10-27T10:08:32.421724Z",
     "shell.execute_reply.started": "2021-10-27T09:55:21.247740Z"
    },
    "papermill": {
     "duration": 0.049202,
     "end_time": "2021-10-27T10:08:32.422393",
     "exception": false,
     "start_time": "2021-10-27T10:08:32.373191",
     "status": "completed"
    },
    "tags": []
   },
   "outputs": [
    {
     "data": {
      "application/javascript": [
       "parent.postMessage({\"jupyterEvent\": \"custom.exercise_interaction\", \"data\": {\"outcomeType\": 1, \"valueTowardsCompletion\": 0.5, \"interactionType\": 1, \"questionType\": 4, \"questionId\": \"2.1_LabelA\", \"learnToolsVersion\": \"0.3.4\", \"failureMessage\": \"\", \"exceptionClass\": \"\", \"trace\": \"\"}}, \"*\")"
      ],
      "text/plain": [
       "<IPython.core.display.Javascript object>"
      ]
     },
     "metadata": {},
     "output_type": "display_data"
    },
    {
     "data": {
      "text/markdown": [
       "<span style=\"color:#33cc33\">Correct:</span> \n",
       "\n",
       "Fitting an ordinal encoder to a column in the training data creates a corresponding integer-valued label for each unique value **that appears in the training data**. In the case that the validation data contains values that don't also appear in the training data, the encoder will throw an error, because these values won't have an integer assigned to them.  Notice that the `'Condition2'` column in the validation data contains the values `'RRAn'` and `'RRNn'`, but these don't appear in the training data -- thus, if we try to use an ordinal encoder with scikit-learn, the code will throw an error."
      ],
      "text/plain": [
       "Correct: \n",
       "\n",
       "Fitting an ordinal encoder to a column in the training data creates a corresponding integer-valued label for each unique value **that appears in the training data**. In the case that the validation data contains values that don't also appear in the training data, the encoder will throw an error, because these values won't have an integer assigned to them.  Notice that the `'Condition2'` column in the validation data contains the values `'RRAn'` and `'RRNn'`, but these don't appear in the training data -- thus, if we try to use an ordinal encoder with scikit-learn, the code will throw an error."
      ]
     },
     "metadata": {},
     "output_type": "display_data"
    }
   ],
   "source": [
    "# Check your answer (Run this code cell to receive credit!)\n",
    "step_2.a.check()"
   ]
  },
  {
   "cell_type": "code",
   "execution_count": 14,
   "id": "f4c12701",
   "metadata": {
    "execution": {
     "iopub.execute_input": "2021-10-27T10:08:32.504890Z",
     "iopub.status.busy": "2021-10-27T10:08:32.503873Z",
     "iopub.status.idle": "2021-10-27T10:08:32.507582Z",
     "shell.execute_reply": "2021-10-27T10:08:32.508122Z",
     "shell.execute_reply.started": "2021-10-27T09:55:21.264440Z"
    },
    "papermill": {
     "duration": 0.046336,
     "end_time": "2021-10-27T10:08:32.508310",
     "exception": false,
     "start_time": "2021-10-27T10:08:32.461974",
     "status": "completed"
    },
    "tags": []
   },
   "outputs": [],
   "source": [
    "#step_2.a.hint()"
   ]
  },
  {
   "cell_type": "markdown",
   "id": "0ac7fcb2",
   "metadata": {
    "papermill": {
     "duration": 0.038953,
     "end_time": "2021-10-27T10:08:32.588839",
     "exception": false,
     "start_time": "2021-10-27T10:08:32.549886",
     "status": "completed"
    },
    "tags": []
   },
   "source": [
    "This is a common problem that you'll encounter with real-world data, and there are many approaches to fixing this issue.  For instance, you can write a custom ordinal encoder to deal with new categories.  The simplest approach, however, is to drop the problematic categorical columns.  \n",
    "\n",
    "Run the code cell below to save the problematic columns to a Python list `bad_label_cols`.  Likewise, columns that can be safely ordinal encoded are stored in `good_label_cols`."
   ]
  },
  {
   "cell_type": "code",
   "execution_count": 15,
   "id": "e4bf494b",
   "metadata": {
    "execution": {
     "iopub.execute_input": "2021-10-27T10:08:32.683461Z",
     "iopub.status.busy": "2021-10-27T10:08:32.670272Z",
     "iopub.status.idle": "2021-10-27T10:08:32.686711Z",
     "shell.execute_reply": "2021-10-27T10:08:32.687265Z",
     "shell.execute_reply.started": "2021-10-27T09:55:21.274549Z"
    },
    "papermill": {
     "duration": 0.059422,
     "end_time": "2021-10-27T10:08:32.687439",
     "exception": false,
     "start_time": "2021-10-27T10:08:32.628017",
     "status": "completed"
    },
    "tags": []
   },
   "outputs": [
    {
     "name": "stdout",
     "output_type": "stream",
     "text": [
      "Categorical columns that will be ordinal encoded: ['MSZoning', 'Street', 'LotShape', 'LandContour', 'Utilities', 'LotConfig', 'LandSlope', 'Neighborhood', 'Condition1', 'BldgType', 'HouseStyle', 'RoofStyle', 'Exterior1st', 'Exterior2nd', 'ExterQual', 'ExterCond', 'Foundation', 'Heating', 'HeatingQC', 'CentralAir', 'KitchenQual', 'PavedDrive', 'SaleType', 'SaleCondition']\n",
      "\n",
      "Categorical columns that will be dropped from the dataset: ['Condition2', 'Functional', 'RoofMatl']\n"
     ]
    }
   ],
   "source": [
    "# Categorical columns in the training data\n",
    "object_cols = [col for col in X_train.columns if X_train[col].dtype == \"object\"]\n",
    "\n",
    "# Columns that can be safely ordinal encoded\n",
    "good_label_cols = [col for col in object_cols if \n",
    "                   set(X_valid[col]).issubset(set(X_train[col]))]\n",
    "        \n",
    "# Problematic columns that will be dropped from the dataset\n",
    "bad_label_cols = list(set(object_cols)-set(good_label_cols))\n",
    "        \n",
    "print('Categorical columns that will be ordinal encoded:', good_label_cols)\n",
    "print('\\nCategorical columns that will be dropped from the dataset:', bad_label_cols)"
   ]
  },
  {
   "cell_type": "markdown",
   "id": "2adbbe18",
   "metadata": {
    "papermill": {
     "duration": 0.039682,
     "end_time": "2021-10-27T10:08:32.766734",
     "exception": false,
     "start_time": "2021-10-27T10:08:32.727052",
     "status": "completed"
    },
    "tags": []
   },
   "source": [
    "### Part B\n",
    "\n",
    "Use the next code cell to ordinal encode the data in `X_train` and `X_valid`.  Set the preprocessed DataFrames to `label_X_train` and `label_X_valid`, respectively.  \n",
    "- We have provided code below to drop the categorical columns in `bad_label_cols` from the dataset. \n",
    "- You should ordinal encode the categorical columns in `good_label_cols`.  "
   ]
  },
  {
   "cell_type": "code",
   "execution_count": 16,
   "id": "bed503a8",
   "metadata": {
    "execution": {
     "iopub.execute_input": "2021-10-27T10:08:32.851745Z",
     "iopub.status.busy": "2021-10-27T10:08:32.851050Z",
     "iopub.status.idle": "2021-10-27T10:08:32.899628Z",
     "shell.execute_reply": "2021-10-27T10:08:32.900138Z",
     "shell.execute_reply.started": "2021-10-27T09:55:21.297034Z"
    },
    "papermill": {
     "duration": 0.091829,
     "end_time": "2021-10-27T10:08:32.900317",
     "exception": false,
     "start_time": "2021-10-27T10:08:32.808488",
     "status": "completed"
    },
    "tags": []
   },
   "outputs": [
    {
     "data": {
      "application/javascript": [
       "parent.postMessage({\"jupyterEvent\": \"custom.exercise_interaction\", \"data\": {\"outcomeType\": 1, \"valueTowardsCompletion\": 0.5, \"interactionType\": 1, \"questionType\": 2, \"questionId\": \"2.2_LabelB\", \"learnToolsVersion\": \"0.3.4\", \"failureMessage\": \"\", \"exceptionClass\": \"\", \"trace\": \"\"}}, \"*\")"
      ],
      "text/plain": [
       "<IPython.core.display.Javascript object>"
      ]
     },
     "metadata": {},
     "output_type": "display_data"
    },
    {
     "data": {
      "text/markdown": [
       "<span style=\"color:#33cc33\">Correct</span>"
      ],
      "text/plain": [
       "Correct"
      ]
     },
     "metadata": {},
     "output_type": "display_data"
    }
   ],
   "source": [
    "from sklearn.preprocessing import OrdinalEncoder\n",
    "\n",
    "# Drop categorical columns that will not be encoded\n",
    "label_X_train = X_train.drop(bad_label_cols, axis=1)\n",
    "label_X_valid = X_valid.drop(bad_label_cols, axis=1)\n",
    "\n",
    "# Apply ordinal encoder \n",
    "OrdEnc = OrdinalEncoder() # Your code here\n",
    "label_X_train[good_label_cols] = OrdEnc.fit_transform(X_train[good_label_cols])\n",
    "label_X_valid[good_label_cols] = OrdEnc.transform(X_valid[good_label_cols])\n",
    "    \n",
    "# Check your answer\n",
    "step_2.b.check()"
   ]
  },
  {
   "cell_type": "code",
   "execution_count": 17,
   "id": "032f9635",
   "metadata": {
    "execution": {
     "iopub.execute_input": "2021-10-27T10:08:32.985531Z",
     "iopub.status.busy": "2021-10-27T10:08:32.984868Z",
     "iopub.status.idle": "2021-10-27T10:08:32.987579Z",
     "shell.execute_reply": "2021-10-27T10:08:32.988102Z",
     "shell.execute_reply.started": "2021-10-27T09:55:21.352090Z"
    },
    "papermill": {
     "duration": 0.046794,
     "end_time": "2021-10-27T10:08:32.988276",
     "exception": false,
     "start_time": "2021-10-27T10:08:32.941482",
     "status": "completed"
    },
    "tags": []
   },
   "outputs": [],
   "source": [
    "# Lines below will give you a hint or solution code\n",
    "#step_2.b.hint()\n",
    "#step_2.b.solution()"
   ]
  },
  {
   "cell_type": "markdown",
   "id": "12d9f94d",
   "metadata": {
    "papermill": {
     "duration": 0.039841,
     "end_time": "2021-10-27T10:08:33.069580",
     "exception": false,
     "start_time": "2021-10-27T10:08:33.029739",
     "status": "completed"
    },
    "tags": []
   },
   "source": [
    "Run the next code cell to get the MAE for this approach."
   ]
  },
  {
   "cell_type": "code",
   "execution_count": 18,
   "id": "06b21c8f",
   "metadata": {
    "execution": {
     "iopub.execute_input": "2021-10-27T10:08:33.154978Z",
     "iopub.status.busy": "2021-10-27T10:08:33.154304Z",
     "iopub.status.idle": "2021-10-27T10:08:34.759734Z",
     "shell.execute_reply": "2021-10-27T10:08:34.760497Z",
     "shell.execute_reply.started": "2021-10-27T09:55:21.357702Z"
    },
    "papermill": {
     "duration": 1.649956,
     "end_time": "2021-10-27T10:08:34.760762",
     "exception": false,
     "start_time": "2021-10-27T10:08:33.110806",
     "status": "completed"
    },
    "tags": []
   },
   "outputs": [
    {
     "name": "stdout",
     "output_type": "stream",
     "text": [
      "MAE from Approach 2 (Ordinal Encoding):\n",
      "17098.01649543379\n"
     ]
    }
   ],
   "source": [
    "print(\"MAE from Approach 2 (Ordinal Encoding):\") \n",
    "print(score_dataset(label_X_train, label_X_valid, y_train, y_valid))"
   ]
  },
  {
   "cell_type": "markdown",
   "id": "7b32aadb",
   "metadata": {
    "papermill": {
     "duration": 0.040982,
     "end_time": "2021-10-27T10:08:34.843363",
     "exception": false,
     "start_time": "2021-10-27T10:08:34.802381",
     "status": "completed"
    },
    "tags": []
   },
   "source": [
    "So far, you've tried two different approaches to dealing with categorical variables.  And, you've seen that encoding categorical data yields better results than removing columns from the dataset.\n",
    "\n",
    "Soon, you'll try one-hot encoding.  Before then, there's one additional topic we need to cover.  Begin by running the next code cell without changes.  "
   ]
  },
  {
   "cell_type": "code",
   "execution_count": 19,
   "id": "3816ac4e",
   "metadata": {
    "execution": {
     "iopub.execute_input": "2021-10-27T10:08:34.932257Z",
     "iopub.status.busy": "2021-10-27T10:08:34.931198Z",
     "iopub.status.idle": "2021-10-27T10:08:34.942095Z",
     "shell.execute_reply": "2021-10-27T10:08:34.942585Z",
     "shell.execute_reply.started": "2021-10-27T09:55:22.983245Z"
    },
    "papermill": {
     "duration": 0.058466,
     "end_time": "2021-10-27T10:08:34.942762",
     "exception": false,
     "start_time": "2021-10-27T10:08:34.884296",
     "status": "completed"
    },
    "tags": []
   },
   "outputs": [
    {
     "data": {
      "text/plain": [
       "[('Street', 2),\n",
       " ('Utilities', 2),\n",
       " ('CentralAir', 2),\n",
       " ('LandSlope', 3),\n",
       " ('PavedDrive', 3),\n",
       " ('LotShape', 4),\n",
       " ('LandContour', 4),\n",
       " ('ExterQual', 4),\n",
       " ('KitchenQual', 4),\n",
       " ('MSZoning', 5),\n",
       " ('LotConfig', 5),\n",
       " ('BldgType', 5),\n",
       " ('ExterCond', 5),\n",
       " ('HeatingQC', 5),\n",
       " ('Condition2', 6),\n",
       " ('RoofStyle', 6),\n",
       " ('Foundation', 6),\n",
       " ('Heating', 6),\n",
       " ('Functional', 6),\n",
       " ('SaleCondition', 6),\n",
       " ('RoofMatl', 7),\n",
       " ('HouseStyle', 8),\n",
       " ('Condition1', 9),\n",
       " ('SaleType', 9),\n",
       " ('Exterior1st', 15),\n",
       " ('Exterior2nd', 16),\n",
       " ('Neighborhood', 25)]"
      ]
     },
     "execution_count": 19,
     "metadata": {},
     "output_type": "execute_result"
    }
   ],
   "source": [
    "# Get number of unique entries in each column with categorical data\n",
    "object_nunique = list(map(lambda col: X_train[col].nunique(), object_cols))\n",
    "d = dict(zip(object_cols, object_nunique))\n",
    "\n",
    "# Print number of unique entries by column, in ascending order\n",
    "sorted(d.items(), key=lambda x: x[1])"
   ]
  },
  {
   "cell_type": "markdown",
   "id": "b07dd48b",
   "metadata": {
    "papermill": {
     "duration": 0.041047,
     "end_time": "2021-10-27T10:08:35.025106",
     "exception": false,
     "start_time": "2021-10-27T10:08:34.984059",
     "status": "completed"
    },
    "tags": []
   },
   "source": [
    "# Step 3: Investigating cardinality\n",
    "\n",
    "### Part A\n",
    "\n",
    "The output above shows, for each column with categorical data, the number of unique values in the column.  For instance, the `'Street'` column in the training data has two unique values: `'Grvl'` and `'Pave'`, corresponding to a gravel road and a paved road, respectively.\n",
    "\n",
    "We refer to the number of unique entries of a categorical variable as the **cardinality** of that categorical variable.  For instance, the `'Street'` variable has cardinality 2.\n",
    "\n",
    "Use the output above to answer the questions below."
   ]
  },
  {
   "cell_type": "code",
   "execution_count": 20,
   "id": "44cb6459",
   "metadata": {
    "execution": {
     "iopub.execute_input": "2021-10-27T10:08:35.115827Z",
     "iopub.status.busy": "2021-10-27T10:08:35.114830Z",
     "iopub.status.idle": "2021-10-27T10:08:35.120008Z",
     "shell.execute_reply": "2021-10-27T10:08:35.120474Z",
     "shell.execute_reply.started": "2021-10-27T09:55:22.999126Z"
    },
    "papermill": {
     "duration": 0.053475,
     "end_time": "2021-10-27T10:08:35.120668",
     "exception": false,
     "start_time": "2021-10-27T10:08:35.067193",
     "status": "completed"
    },
    "tags": []
   },
   "outputs": [
    {
     "data": {
      "application/javascript": [
       "parent.postMessage({\"jupyterEvent\": \"custom.exercise_interaction\", \"data\": {\"outcomeType\": 1, \"valueTowardsCompletion\": 0.5, \"interactionType\": 1, \"questionType\": 1, \"questionId\": \"3.1_CardinalityA\", \"learnToolsVersion\": \"0.3.4\", \"failureMessage\": \"\", \"exceptionClass\": \"\", \"trace\": \"\"}}, \"*\")"
      ],
      "text/plain": [
       "<IPython.core.display.Javascript object>"
      ]
     },
     "metadata": {},
     "output_type": "display_data"
    },
    {
     "data": {
      "text/markdown": [
       "<span style=\"color:#33cc33\">Correct</span>"
      ],
      "text/plain": [
       "Correct"
      ]
     },
     "metadata": {},
     "output_type": "display_data"
    }
   ],
   "source": [
    "# Fill in the line below: How many categorical variables in the training data\n",
    "# have cardinality greater than 10?\n",
    "high_cardinality_numcols = sum(map(lambda x : x> 10, object_nunique))\n",
    "\n",
    "# Fill in the line below: How many columns are needed to one-hot encode the \n",
    "# 'Neighborhood' variable in the training data?\n",
    "num_cols_neighborhood = d['Neighborhood']\n",
    "\n",
    "# Check your answers\n",
    "step_3.a.check()"
   ]
  },
  {
   "cell_type": "code",
   "execution_count": 21,
   "id": "56a187ba",
   "metadata": {
    "execution": {
     "iopub.execute_input": "2021-10-27T10:08:35.209460Z",
     "iopub.status.busy": "2021-10-27T10:08:35.208623Z",
     "iopub.status.idle": "2021-10-27T10:08:35.211396Z",
     "shell.execute_reply": "2021-10-27T10:08:35.211860Z",
     "shell.execute_reply.started": "2021-10-27T09:55:23.010228Z"
    },
    "papermill": {
     "duration": 0.048984,
     "end_time": "2021-10-27T10:08:35.212029",
     "exception": false,
     "start_time": "2021-10-27T10:08:35.163045",
     "status": "completed"
    },
    "tags": []
   },
   "outputs": [],
   "source": [
    "# Lines below will give you a hint or solution code\n",
    "#step_3.a.hint()\n",
    "#step_3.a.solution()"
   ]
  },
  {
   "cell_type": "markdown",
   "id": "d2c0ba3b",
   "metadata": {
    "papermill": {
     "duration": 0.041991,
     "end_time": "2021-10-27T10:08:35.296344",
     "exception": false,
     "start_time": "2021-10-27T10:08:35.254353",
     "status": "completed"
    },
    "tags": []
   },
   "source": [
    "### Part B\n",
    "\n",
    "For large datasets with many rows, one-hot encoding can greatly expand the size of the dataset.  For this reason, we typically will only one-hot encode columns with relatively low cardinality.  Then, high cardinality columns can either be dropped from the dataset, or we can use ordinal encoding.\n",
    "\n",
    "As an example, consider a dataset with 10,000 rows, and containing one categorical column with 100 unique entries.  \n",
    "- If this column is replaced with the corresponding one-hot encoding, how many entries are added to the dataset?  \n",
    "- If we instead replace the column with the ordinal encoding, how many entries are added?  \n",
    "\n",
    "Use your answers to fill in the lines below."
   ]
  },
  {
   "cell_type": "code",
   "execution_count": 22,
   "id": "d7cdb28e",
   "metadata": {
    "execution": {
     "iopub.execute_input": "2021-10-27T10:08:35.386060Z",
     "iopub.status.busy": "2021-10-27T10:08:35.385009Z",
     "iopub.status.idle": "2021-10-27T10:08:35.393199Z",
     "shell.execute_reply": "2021-10-27T10:08:35.393817Z",
     "shell.execute_reply.started": "2021-10-27T09:55:23.022006Z"
    },
    "papermill": {
     "duration": 0.054545,
     "end_time": "2021-10-27T10:08:35.394038",
     "exception": false,
     "start_time": "2021-10-27T10:08:35.339493",
     "status": "completed"
    },
    "tags": []
   },
   "outputs": [
    {
     "data": {
      "application/javascript": [
       "parent.postMessage({\"jupyterEvent\": \"custom.exercise_interaction\", \"data\": {\"outcomeType\": 1, \"valueTowardsCompletion\": 0.5, \"interactionType\": 1, \"questionType\": 1, \"questionId\": \"3.2_CardinalityB\", \"learnToolsVersion\": \"0.3.4\", \"failureMessage\": \"\", \"exceptionClass\": \"\", \"trace\": \"\"}}, \"*\")"
      ],
      "text/plain": [
       "<IPython.core.display.Javascript object>"
      ]
     },
     "metadata": {},
     "output_type": "display_data"
    },
    {
     "data": {
      "text/markdown": [
       "<span style=\"color:#33cc33\">Correct</span>"
      ],
      "text/plain": [
       "Correct"
      ]
     },
     "metadata": {},
     "output_type": "display_data"
    }
   ],
   "source": [
    "# Fill in the line below: How many entries are added to the dataset by \n",
    "# replacing the column with a one-hot encoding?\n",
    "OH_entries_added = 990000\n",
    "\n",
    "# Fill in the line below: How many entries are added to the dataset by\n",
    "# replacing the column with an ordinal encoding?\n",
    "label_entries_added = 0\n",
    "\n",
    "# Check your answers\n",
    "step_3.b.check()"
   ]
  },
  {
   "cell_type": "code",
   "execution_count": 23,
   "id": "bae61d83",
   "metadata": {
    "execution": {
     "iopub.execute_input": "2021-10-27T10:08:35.484199Z",
     "iopub.status.busy": "2021-10-27T10:08:35.483477Z",
     "iopub.status.idle": "2021-10-27T10:08:35.486223Z",
     "shell.execute_reply": "2021-10-27T10:08:35.486852Z",
     "shell.execute_reply.started": "2021-10-27T09:55:23.038478Z"
    },
    "papermill": {
     "duration": 0.049411,
     "end_time": "2021-10-27T10:08:35.487022",
     "exception": false,
     "start_time": "2021-10-27T10:08:35.437611",
     "status": "completed"
    },
    "tags": []
   },
   "outputs": [],
   "source": [
    "# Lines below will give you a hint or solution code\n",
    "#step_3.b.hint()\n",
    "#step_3.b.solution()"
   ]
  },
  {
   "cell_type": "markdown",
   "id": "391b433a",
   "metadata": {
    "papermill": {
     "duration": 0.04289,
     "end_time": "2021-10-27T10:08:35.573330",
     "exception": false,
     "start_time": "2021-10-27T10:08:35.530440",
     "status": "completed"
    },
    "tags": []
   },
   "source": [
    "Next, you'll experiment with one-hot encoding.  But, instead of encoding all of the categorical variables in the dataset, you'll only create a one-hot encoding for columns with cardinality less than 10.\n",
    "\n",
    "Run the code cell below without changes to set `low_cardinality_cols` to a Python list containing the columns that will be one-hot encoded.  Likewise, `high_cardinality_cols` contains a list of categorical columns that will be dropped from the dataset."
   ]
  },
  {
   "cell_type": "code",
   "execution_count": 24,
   "id": "4fdad634",
   "metadata": {
    "execution": {
     "iopub.execute_input": "2021-10-27T10:08:35.665925Z",
     "iopub.status.busy": "2021-10-27T10:08:35.664873Z",
     "iopub.status.idle": "2021-10-27T10:08:35.675055Z",
     "shell.execute_reply": "2021-10-27T10:08:35.675791Z",
     "shell.execute_reply.started": "2021-10-27T09:55:23.046020Z"
    },
    "papermill": {
     "duration": 0.059674,
     "end_time": "2021-10-27T10:08:35.676020",
     "exception": false,
     "start_time": "2021-10-27T10:08:35.616346",
     "status": "completed"
    },
    "tags": []
   },
   "outputs": [
    {
     "name": "stdout",
     "output_type": "stream",
     "text": [
      "Categorical columns that will be one-hot encoded: ['MSZoning', 'Street', 'LotShape', 'LandContour', 'Utilities', 'LotConfig', 'LandSlope', 'Condition1', 'Condition2', 'BldgType', 'HouseStyle', 'RoofStyle', 'RoofMatl', 'ExterQual', 'ExterCond', 'Foundation', 'Heating', 'HeatingQC', 'CentralAir', 'KitchenQual', 'Functional', 'PavedDrive', 'SaleType', 'SaleCondition']\n",
      "\n",
      "Categorical columns that will be dropped from the dataset: ['Neighborhood', 'Exterior1st', 'Exterior2nd']\n"
     ]
    }
   ],
   "source": [
    "# Columns that will be one-hot encoded\n",
    "low_cardinality_cols = [col for col in object_cols if X_train[col].nunique() < 10]\n",
    "\n",
    "# Columns that will be dropped from the dataset\n",
    "high_cardinality_cols = list(set(object_cols)-set(low_cardinality_cols))\n",
    "\n",
    "print('Categorical columns that will be one-hot encoded:', low_cardinality_cols)\n",
    "print('\\nCategorical columns that will be dropped from the dataset:', high_cardinality_cols)"
   ]
  },
  {
   "cell_type": "markdown",
   "id": "62ac065b",
   "metadata": {
    "papermill": {
     "duration": 0.043376,
     "end_time": "2021-10-27T10:08:35.764109",
     "exception": false,
     "start_time": "2021-10-27T10:08:35.720733",
     "status": "completed"
    },
    "tags": []
   },
   "source": [
    "# Step 4: One-hot encoding\n",
    "\n",
    "Use the next code cell to one-hot encode the data in `X_train` and `X_valid`.  Set the preprocessed DataFrames to `OH_X_train` and `OH_X_valid`, respectively.  \n",
    "- The full list of categorical columns in the dataset can be found in the Python list `object_cols`.\n",
    "- You should only one-hot encode the categorical columns in `low_cardinality_cols`.  All other categorical columns should be dropped from the dataset. "
   ]
  },
  {
   "cell_type": "code",
   "execution_count": 25,
   "id": "7cb1f636",
   "metadata": {
    "execution": {
     "iopub.execute_input": "2021-10-27T10:08:35.856274Z",
     "iopub.status.busy": "2021-10-27T10:08:35.855220Z",
     "iopub.status.idle": "2021-10-27T10:08:35.905418Z",
     "shell.execute_reply": "2021-10-27T10:08:35.904861Z",
     "shell.execute_reply.started": "2021-10-27T09:55:23.066811Z"
    },
    "papermill": {
     "duration": 0.097612,
     "end_time": "2021-10-27T10:08:35.905589",
     "exception": false,
     "start_time": "2021-10-27T10:08:35.807977",
     "status": "completed"
    },
    "tags": []
   },
   "outputs": [
    {
     "data": {
      "application/javascript": [
       "parent.postMessage({\"jupyterEvent\": \"custom.exercise_interaction\", \"data\": {\"outcomeType\": 2, \"failureMessage\": \"`OH_X_train` should have 155 columns.\", \"interactionType\": 1, \"questionType\": 2, \"questionId\": \"4_OneHot\", \"learnToolsVersion\": \"0.3.4\", \"valueTowardsCompletion\": 0.0, \"exceptionClass\": \"\", \"trace\": \"\"}}, \"*\")"
      ],
      "text/plain": [
       "<IPython.core.display.Javascript object>"
      ]
     },
     "metadata": {},
     "output_type": "display_data"
    },
    {
     "data": {
      "text/markdown": [
       "<span style=\"color:#cc3333\">Incorrect:</span> `OH_X_train` should have 155 columns."
      ],
      "text/plain": [
       "Incorrect: `OH_X_train` should have 155 columns."
      ]
     },
     "metadata": {},
     "output_type": "display_data"
    }
   ],
   "source": [
    "from sklearn.preprocessing import OneHotEncoder\n",
    "\n",
    "# Use as many lines of code as you need!\n",
    "OH_encoder = OneHotEncoder(handle_unknown = 'ignore', sparse = False)\n",
    "OH_col_train = pd.DataFrame(OH_encoder.fit_transform(X_train[object_cols]))\n",
    "OH_col_valid = pd.DataFrame(OH_encoder.transform(X_valid[object_cols]))\n",
    "\n",
    "OH_col_train.index = X_train.index \n",
    "OH_col_valid.index = X_valid.index \n",
    "\n",
    "num_X_train = X_train.drop(object_cols, axis=1)\n",
    "num_X_valid = X_valid.drop(object_cols, axis=1)\n",
    "\n",
    "OH_X_train = pd.concat([num_X_train, OH_col_train], axis=1) # Your code here\n",
    "OH_X_valid = pd.concat([num_X_valid, OH_col_valid], axis=1)# Your code here\n",
    "\n",
    "# Check your answer\n",
    "step_4.check()"
   ]
  },
  {
   "cell_type": "code",
   "execution_count": 26,
   "id": "0001ce4a",
   "metadata": {
    "execution": {
     "iopub.execute_input": "2021-10-27T10:08:35.998375Z",
     "iopub.status.busy": "2021-10-27T10:08:35.997703Z",
     "iopub.status.idle": "2021-10-27T10:08:36.000428Z",
     "shell.execute_reply": "2021-10-27T10:08:36.000941Z",
     "shell.execute_reply.started": "2021-10-27T09:55:23.120524Z"
    },
    "papermill": {
     "duration": 0.05086,
     "end_time": "2021-10-27T10:08:36.001103",
     "exception": false,
     "start_time": "2021-10-27T10:08:35.950243",
     "status": "completed"
    },
    "tags": []
   },
   "outputs": [],
   "source": [
    "# Lines below will give you a hint or solution code\n",
    "#step_4.hint()\n",
    "#step_4.solution()"
   ]
  },
  {
   "cell_type": "markdown",
   "id": "4a6b2854",
   "metadata": {
    "papermill": {
     "duration": 0.045713,
     "end_time": "2021-10-27T10:08:36.091379",
     "exception": false,
     "start_time": "2021-10-27T10:08:36.045666",
     "status": "completed"
    },
    "tags": []
   },
   "source": [
    "Run the next code cell to get the MAE for this approach."
   ]
  },
  {
   "cell_type": "code",
   "execution_count": 27,
   "id": "dd84b22e",
   "metadata": {
    "execution": {
     "iopub.execute_input": "2021-10-27T10:08:36.184340Z",
     "iopub.status.busy": "2021-10-27T10:08:36.183662Z",
     "iopub.status.idle": "2021-10-27T10:08:38.499784Z",
     "shell.execute_reply": "2021-10-27T10:08:38.498932Z",
     "shell.execute_reply.started": "2021-10-27T09:55:23.126291Z"
    },
    "papermill": {
     "duration": 2.363886,
     "end_time": "2021-10-27T10:08:38.499989",
     "exception": false,
     "start_time": "2021-10-27T10:08:36.136103",
     "status": "completed"
    },
    "tags": []
   },
   "outputs": [
    {
     "name": "stdout",
     "output_type": "stream",
     "text": [
      "MAE from Approach 3 (One-Hot Encoding):\n",
      "17447.34301369863\n"
     ]
    }
   ],
   "source": [
    "print(\"MAE from Approach 3 (One-Hot Encoding):\") \n",
    "print(score_dataset(OH_X_train, OH_X_valid, y_train, y_valid))"
   ]
  },
  {
   "cell_type": "markdown",
   "id": "9e46c80a",
   "metadata": {
    "papermill": {
     "duration": 0.046527,
     "end_time": "2021-10-27T10:08:38.594265",
     "exception": false,
     "start_time": "2021-10-27T10:08:38.547738",
     "status": "completed"
    },
    "tags": []
   },
   "source": [
    "# Generate test predictions and submit your results\n",
    "\n",
    "After you complete Step 4, if you'd like to use what you've learned to submit your results to the leaderboard, you'll need to preprocess the test data before generating predictions.\n",
    "\n",
    "**This step is completely optional, and you do not need to submit results to the leaderboard to successfully complete the exercise.**\n",
    "\n",
    "Check out the previous exercise if you need help with remembering how to [join the competition](https://www.kaggle.com/c/home-data-for-ml-course) or save your results to CSV.  Once you have generated a file with your results, follow the instructions below:\n",
    "1. Begin by clicking on the **Save Version** button in the top right corner of the window.  This will generate a pop-up window.  \n",
    "2. Ensure that the **Save and Run All** option is selected, and then click on the **Save** button.\n",
    "3. This generates a window in the bottom left corner of the notebook.  After it has finished running, click on the number to the right of the **Save Version** button.  This pulls up a list of versions on the right of the screen.  Click on the ellipsis **(...)** to the right of the most recent version, and select **Open in Viewer**.  This brings you into view mode of the same page. You will need to scroll down to get back to these instructions.\n",
    "4. Click on the **Output** tab on the right of the screen.  Then, click on the file you would like to submit, and click on the **Submit** button to submit your results to the leaderboard.\n",
    "\n",
    "You have now successfully submitted to the competition!\n",
    "\n",
    "If you want to keep working to improve your performance, select the **Edit** button in the top right of the screen. Then you can change your code and repeat the process. There's a lot of room to improve, and you will climb up the leaderboard as you work.\n"
   ]
  },
  {
   "cell_type": "code",
   "execution_count": 28,
   "id": "9c7dcecb",
   "metadata": {
    "execution": {
     "iopub.execute_input": "2021-10-27T10:08:38.705504Z",
     "iopub.status.busy": "2021-10-27T10:08:38.704664Z",
     "iopub.status.idle": "2021-10-27T10:08:38.712924Z",
     "shell.execute_reply": "2021-10-27T10:08:38.712253Z",
     "shell.execute_reply.started": "2021-10-27T09:59:56.307777Z"
    },
    "papermill": {
     "duration": 0.073428,
     "end_time": "2021-10-27T10:08:38.713066",
     "exception": false,
     "start_time": "2021-10-27T10:08:38.639638",
     "status": "completed"
    },
    "tags": []
   },
   "outputs": [],
   "source": [
    "cols_with_missing = [col for col in X_test.columns if X_test[col].isnull().any()] \n",
    "X_test.drop(cols_with_missing, axis=1, inplace=True)"
   ]
  },
  {
   "cell_type": "code",
   "execution_count": 29,
   "id": "7fbc5200",
   "metadata": {
    "execution": {
     "iopub.execute_input": "2021-10-27T10:08:38.809475Z",
     "iopub.status.busy": "2021-10-27T10:08:38.808801Z",
     "iopub.status.idle": "2021-10-27T10:08:38.812085Z",
     "shell.execute_reply": "2021-10-27T10:08:38.812716Z",
     "shell.execute_reply.started": "2021-10-27T10:01:20.326496Z"
    },
    "papermill": {
     "duration": 0.053893,
     "end_time": "2021-10-27T10:08:38.812888",
     "exception": false,
     "start_time": "2021-10-27T10:08:38.758995",
     "status": "completed"
    },
    "tags": []
   },
   "outputs": [],
   "source": [
    "# # (Optional) Your code here\n",
    "# from sklearn.preprocessing import OneHotEncoder\n",
    "\n",
    "# # Use as many lines of code as you need!\n",
    "# OH_col_test = pd.DataFrame(OH_encoder.transform(X_test[object_cols]))\n",
    "\n",
    "# OH_col_test.index = X_test.index \n",
    "\n",
    "# num_X_test = X_test.drop(object_cols, axis=1)\n",
    "\n",
    "# OH_X_test = pd.concat([num_X_test, OH_col_train], axis=1) # Your code here\n",
    "# #\n"
   ]
  },
  {
   "cell_type": "code",
   "execution_count": 30,
   "id": "6c7f5ccb",
   "metadata": {
    "execution": {
     "iopub.execute_input": "2021-10-27T10:08:38.910504Z",
     "iopub.status.busy": "2021-10-27T10:08:38.909840Z",
     "iopub.status.idle": "2021-10-27T10:09:05.329809Z",
     "shell.execute_reply": "2021-10-27T10:09:05.329112Z",
     "shell.execute_reply.started": "2021-10-27T10:06:01.091360Z"
    },
    "papermill": {
     "duration": 26.471683,
     "end_time": "2021-10-27T10:09:05.329976",
     "exception": false,
     "start_time": "2021-10-27T10:08:38.858293",
     "status": "completed"
    },
    "tags": []
   },
   "outputs": [],
   "source": [
    "from sklearn.metrics import mean_absolute_error\n",
    "from sklearn.ensemble import RandomForestRegressor\n",
    "\n",
    "\n",
    "my_model =  RandomForestRegressor(n_estimators=100, criterion='mae', random_state=0)# Your code here\n",
    "\n",
    "# Fit the model to the training data\n",
    "my_model.fit(OH_X_train, y_train)\n",
    "\n",
    "# Generate test predictions\n",
    "preds_test = my_model.predict(OH_X_valid)\n",
    "\n",
    "# Save predictions in format used for competition scoring\n",
    "output = pd.DataFrame({'Id': OH_X_valid.index,\n",
    "                       'SalePrice': preds_test})\n",
    "output.to_csv('submission.csv', index=False)"
   ]
  },
  {
   "cell_type": "markdown",
   "id": "e07218b5",
   "metadata": {
    "papermill": {
     "duration": 0.044871,
     "end_time": "2021-10-27T10:09:05.422172",
     "exception": false,
     "start_time": "2021-10-27T10:09:05.377301",
     "status": "completed"
    },
    "tags": []
   },
   "source": [
    "# Keep going\n",
    "\n",
    "With missing value handling and categorical encoding, your modeling process is getting complex. This complexity gets worse when you want to save your model to use in the future. The key to managing this complexity is something called **pipelines**. \n",
    "\n",
    "**[Learn to use pipelines](https://www.kaggle.com/alexisbcook/pipelines)** to preprocess datasets with categorical variables, missing values and any other messiness your data throws at you."
   ]
  }
 ],
 "metadata": {
  "kernelspec": {
   "display_name": "Python 3",
   "language": "python",
   "name": "python3"
  },
  "language_info": {
   "codemirror_mode": {
    "name": "ipython",
    "version": 3
   },
   "file_extension": ".py",
   "mimetype": "text/x-python",
   "name": "python",
   "nbconvert_exporter": "python",
   "pygments_lexer": "ipython3",
   "version": "3.7.10"
  },
  "papermill": {
   "default_parameters": {},
   "duration": 47.700201,
   "end_time": "2021-10-27T10:09:06.178262",
   "environment_variables": {},
   "exception": null,
   "input_path": "__notebook__.ipynb",
   "output_path": "__notebook__.ipynb",
   "parameters": {},
   "start_time": "2021-10-27T10:08:18.478061",
   "version": "2.3.3"
  }
 },
 "nbformat": 4,
 "nbformat_minor": 5
}

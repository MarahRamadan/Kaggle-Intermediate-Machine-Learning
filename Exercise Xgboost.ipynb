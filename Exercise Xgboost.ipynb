{
 "cells": [
  {
   "cell_type": "markdown",
   "id": "22e8e36a",
   "metadata": {
    "papermill": {
     "duration": 0.019453,
     "end_time": "2021-10-27T13:35:20.570828",
     "exception": false,
     "start_time": "2021-10-27T13:35:20.551375",
     "status": "completed"
    },
    "tags": []
   },
   "source": [
    "**This notebook is an exercise in the [Intermediate Machine Learning](https://www.kaggle.com/learn/intermediate-machine-learning) course.  You can reference the tutorial at [this link](https://www.kaggle.com/alexisbcook/xgboost).**\n",
    "\n",
    "---\n"
   ]
  },
  {
   "cell_type": "markdown",
   "id": "d0a5c5a8",
   "metadata": {
    "papermill": {
     "duration": 0.015225,
     "end_time": "2021-10-27T13:35:20.602482",
     "exception": false,
     "start_time": "2021-10-27T13:35:20.587257",
     "status": "completed"
    },
    "tags": []
   },
   "source": [
    "In this exercise, you will use your new knowledge to train a model with **gradient boosting**.\n",
    "\n",
    "# Setup\n",
    "\n",
    "The questions below will give you feedback on your work. Run the following cell to set up the feedback system."
   ]
  },
  {
   "cell_type": "code",
   "execution_count": 1,
   "id": "bae51f36",
   "metadata": {
    "execution": {
     "iopub.execute_input": "2021-10-27T13:35:20.637796Z",
     "iopub.status.busy": "2021-10-27T13:35:20.636646Z",
     "iopub.status.idle": "2021-10-27T13:35:22.662937Z",
     "shell.execute_reply": "2021-10-27T13:35:22.663551Z",
     "shell.execute_reply.started": "2021-10-27T13:22:10.416700Z"
    },
    "papermill": {
     "duration": 2.045895,
     "end_time": "2021-10-27T13:35:22.663959",
     "exception": false,
     "start_time": "2021-10-27T13:35:20.618064",
     "status": "completed"
    },
    "tags": []
   },
   "outputs": [
    {
     "name": "stdout",
     "output_type": "stream",
     "text": [
      "Setup Complete\n"
     ]
    }
   ],
   "source": [
    "# Set up code checking\n",
    "import os\n",
    "if not os.path.exists(\"../input/train.csv\"):\n",
    "    os.symlink(\"../input/home-data-for-ml-course/train.csv\", \"../input/train.csv\")  \n",
    "    os.symlink(\"../input/home-data-for-ml-course/test.csv\", \"../input/test.csv\") \n",
    "from learntools.core import binder\n",
    "binder.bind(globals())\n",
    "from learntools.ml_intermediate.ex6 import *\n",
    "print(\"Setup Complete\")"
   ]
  },
  {
   "cell_type": "markdown",
   "id": "2214fdc1",
   "metadata": {
    "papermill": {
     "duration": 0.01597,
     "end_time": "2021-10-27T13:35:22.697064",
     "exception": false,
     "start_time": "2021-10-27T13:35:22.681094",
     "status": "completed"
    },
    "tags": []
   },
   "source": [
    "You will work with the [Housing Prices Competition for Kaggle Learn Users](https://www.kaggle.com/c/home-data-for-ml-course) dataset from the previous exercise. \n",
    "\n",
    "![Ames Housing dataset image](https://i.imgur.com/lTJVG4e.png)\n",
    "\n",
    "Run the next code cell without changes to load the training and validation sets in `X_train`, `X_valid`, `y_train`, and `y_valid`.  The test set is loaded in `X_test`."
   ]
  },
  {
   "cell_type": "code",
   "execution_count": 2,
   "id": "21fdf56b",
   "metadata": {
    "execution": {
     "iopub.execute_input": "2021-10-27T13:35:22.741994Z",
     "iopub.status.busy": "2021-10-27T13:35:22.741230Z",
     "iopub.status.idle": "2021-10-27T13:35:23.036170Z",
     "shell.execute_reply": "2021-10-27T13:35:23.035408Z",
     "shell.execute_reply.started": "2021-10-27T13:23:35.628510Z"
    },
    "papermill": {
     "duration": 0.323304,
     "end_time": "2021-10-27T13:35:23.036338",
     "exception": false,
     "start_time": "2021-10-27T13:35:22.713034",
     "status": "completed"
    },
    "tags": []
   },
   "outputs": [],
   "source": [
    "import pandas as pd\n",
    "from sklearn.model_selection import train_test_split\n",
    "\n",
    "# Read the data\n",
    "X = pd.read_csv('../input/train.csv', index_col='Id')\n",
    "X_test_full = pd.read_csv('../input/test.csv', index_col='Id')\n",
    "\n",
    "# Remove rows with missing target, separate target from predictors\n",
    "X.dropna(axis=0, subset=['SalePrice'], inplace=True)\n",
    "y = X.SalePrice              \n",
    "X.drop(['SalePrice'], axis=1, inplace=True)\n",
    "\n",
    "# Break off validation set from training data\n",
    "X_train_full, X_valid_full, y_train, y_valid = train_test_split(X, y, train_size=0.8, test_size=0.2,\n",
    "                                                                random_state=0)\n",
    "\n",
    "# \"Cardinality\" means the number of unique values in a column\n",
    "# Select categorical columns with relatively low cardinality (convenient but arbitrary)\n",
    "low_cardinality_cols = [cname for cname in X_train_full.columns if X_train_full[cname].nunique() < 10 and \n",
    "                        X_train_full[cname].dtype == \"object\"]\n",
    "\n",
    "# Select numeric columns\n",
    "numeric_cols = [cname for cname in X_train_full.columns if X_train_full[cname].dtype in ['int64', 'float64']]\n",
    "\n",
    "# Keep selected columns only\n",
    "my_cols = low_cardinality_cols + numeric_cols\n",
    "X_train = X_train_full[my_cols].copy()\n",
    "X_valid = X_valid_full[my_cols].copy()\n",
    "X_test = X_test_full[my_cols].copy()\n",
    "\n",
    "# One-hot encode the data (to shorten the code, we use pandas)\n",
    "X_train = pd.get_dummies(X_train)\n",
    "X_valid = pd.get_dummies(X_valid)\n",
    "X_test = pd.get_dummies(X_test)\n",
    "X_train, X_valid = X_train.align(X_valid, join='left', axis=1)\n",
    "X_train, X_test = X_train.align(X_test, join='left', axis=1)"
   ]
  },
  {
   "cell_type": "markdown",
   "id": "8e447b16",
   "metadata": {
    "papermill": {
     "duration": 0.015855,
     "end_time": "2021-10-27T13:35:23.068324",
     "exception": false,
     "start_time": "2021-10-27T13:35:23.052469",
     "status": "completed"
    },
    "tags": []
   },
   "source": [
    "# Step 1: Build model\n",
    "\n",
    "### Part A\n",
    "\n",
    "In this step, you'll build and train your first model with gradient boosting.\n",
    "\n",
    "- Begin by setting `my_model_1` to an XGBoost model.  Use the [XGBRegressor](https://xgboost.readthedocs.io/en/latest/python/python_api.html#xgboost.XGBRegressor) class, and set the random seed to 0 (`random_state=0`).  **Leave all other parameters as default.**\n",
    "- Then, fit the model to the training data in `X_train` and `y_train`."
   ]
  },
  {
   "cell_type": "code",
   "execution_count": 3,
   "id": "3c58fb85",
   "metadata": {
    "execution": {
     "iopub.execute_input": "2021-10-27T13:35:23.113094Z",
     "iopub.status.busy": "2021-10-27T13:35:23.111785Z",
     "iopub.status.idle": "2021-10-27T13:35:23.844791Z",
     "shell.execute_reply": "2021-10-27T13:35:23.845350Z",
     "shell.execute_reply.started": "2021-10-27T13:24:43.495611Z"
    },
    "papermill": {
     "duration": 0.760966,
     "end_time": "2021-10-27T13:35:23.845562",
     "exception": false,
     "start_time": "2021-10-27T13:35:23.084596",
     "status": "completed"
    },
    "tags": []
   },
   "outputs": [
    {
     "data": {
      "application/javascript": [
       "parent.postMessage({\"jupyterEvent\": \"custom.exercise_interaction\", \"data\": {\"outcomeType\": 1, \"valueTowardsCompletion\": 0.5, \"interactionType\": 1, \"questionType\": 2, \"questionId\": \"1.1_Model1A\", \"learnToolsVersion\": \"0.3.4\", \"failureMessage\": \"\", \"exceptionClass\": \"\", \"trace\": \"\"}}, \"*\")"
      ],
      "text/plain": [
       "<IPython.core.display.Javascript object>"
      ]
     },
     "metadata": {},
     "output_type": "display_data"
    },
    {
     "data": {
      "text/markdown": [
       "<span style=\"color:#33cc33\">Correct</span>"
      ],
      "text/plain": [
       "Correct"
      ]
     },
     "metadata": {},
     "output_type": "display_data"
    }
   ],
   "source": [
    "from xgboost import XGBRegressor\n",
    "\n",
    "# Define the model\n",
    "my_model_1 = XGBRegressor(random_state=0) # Your code here\n",
    "\n",
    "# Fit the model\n",
    "my_model_1.fit(X_train, y_train) # Your code here\n",
    "\n",
    "# Check your answer\n",
    "step_1.a.check()"
   ]
  },
  {
   "cell_type": "code",
   "execution_count": 4,
   "id": "fd8148f0",
   "metadata": {
    "execution": {
     "iopub.execute_input": "2021-10-27T13:35:23.883626Z",
     "iopub.status.busy": "2021-10-27T13:35:23.882666Z",
     "iopub.status.idle": "2021-10-27T13:35:23.886483Z",
     "shell.execute_reply": "2021-10-27T13:35:23.887128Z",
     "shell.execute_reply.started": "2021-10-27T13:24:49.135540Z"
    },
    "papermill": {
     "duration": 0.024764,
     "end_time": "2021-10-27T13:35:23.887321",
     "exception": false,
     "start_time": "2021-10-27T13:35:23.862557",
     "status": "completed"
    },
    "tags": []
   },
   "outputs": [],
   "source": [
    "# Lines below will give you a hint or solution code\n",
    "#step_1.a.hint()\n",
    "#step_1.a.solution()"
   ]
  },
  {
   "cell_type": "markdown",
   "id": "5321045e",
   "metadata": {
    "papermill": {
     "duration": 0.016593,
     "end_time": "2021-10-27T13:35:23.920772",
     "exception": false,
     "start_time": "2021-10-27T13:35:23.904179",
     "status": "completed"
    },
    "tags": []
   },
   "source": [
    "### Part B\n",
    "\n",
    "Set `predictions_1` to the model's predictions for the validation data.  Recall that the validation features are stored in `X_valid`."
   ]
  },
  {
   "cell_type": "code",
   "execution_count": 5,
   "id": "4deff048",
   "metadata": {
    "execution": {
     "iopub.execute_input": "2021-10-27T13:35:23.959569Z",
     "iopub.status.busy": "2021-10-27T13:35:23.958303Z",
     "iopub.status.idle": "2021-10-27T13:35:23.983088Z",
     "shell.execute_reply": "2021-10-27T13:35:23.982440Z",
     "shell.execute_reply.started": "2021-10-27T13:25:32.746329Z"
    },
    "papermill": {
     "duration": 0.045308,
     "end_time": "2021-10-27T13:35:23.983272",
     "exception": false,
     "start_time": "2021-10-27T13:35:23.937964",
     "status": "completed"
    },
    "tags": []
   },
   "outputs": [
    {
     "data": {
      "application/javascript": [
       "parent.postMessage({\"jupyterEvent\": \"custom.exercise_interaction\", \"data\": {\"outcomeType\": 1, \"valueTowardsCompletion\": 0.5, \"interactionType\": 1, \"questionType\": 2, \"questionId\": \"1.2_Model1B\", \"learnToolsVersion\": \"0.3.4\", \"failureMessage\": \"\", \"exceptionClass\": \"\", \"trace\": \"\"}}, \"*\")"
      ],
      "text/plain": [
       "<IPython.core.display.Javascript object>"
      ]
     },
     "metadata": {},
     "output_type": "display_data"
    },
    {
     "data": {
      "text/markdown": [
       "<span style=\"color:#33cc33\">Correct</span>"
      ],
      "text/plain": [
       "Correct"
      ]
     },
     "metadata": {},
     "output_type": "display_data"
    }
   ],
   "source": [
    "from sklearn.metrics import mean_absolute_error\n",
    "\n",
    "# Get predictions\n",
    "predictions_1 = my_model_1.predict(X_valid) # Your code here\n",
    "\n",
    "# Check your answer\n",
    "step_1.b.check()"
   ]
  },
  {
   "cell_type": "code",
   "execution_count": 6,
   "id": "e171b5a0",
   "metadata": {
    "execution": {
     "iopub.execute_input": "2021-10-27T13:35:24.025324Z",
     "iopub.status.busy": "2021-10-27T13:35:24.024370Z",
     "iopub.status.idle": "2021-10-27T13:35:24.027891Z",
     "shell.execute_reply": "2021-10-27T13:35:24.028368Z"
    },
    "papermill": {
     "duration": 0.026474,
     "end_time": "2021-10-27T13:35:24.028569",
     "exception": false,
     "start_time": "2021-10-27T13:35:24.002095",
     "status": "completed"
    },
    "tags": []
   },
   "outputs": [],
   "source": [
    "# Lines below will give you a hint or solution code\n",
    "#step_1.b.hint()\n",
    "#step_1.b.solution()"
   ]
  },
  {
   "cell_type": "markdown",
   "id": "281284c9",
   "metadata": {
    "papermill": {
     "duration": 0.017836,
     "end_time": "2021-10-27T13:35:24.064939",
     "exception": false,
     "start_time": "2021-10-27T13:35:24.047103",
     "status": "completed"
    },
    "tags": []
   },
   "source": [
    "### Part C\n",
    "\n",
    "Finally, use the `mean_absolute_error()` function to calculate the mean absolute error (MAE) corresponding to the predictions for the validation set.  Recall that the labels for the validation data are stored in `y_valid`."
   ]
  },
  {
   "cell_type": "code",
   "execution_count": 7,
   "id": "74351383",
   "metadata": {
    "execution": {
     "iopub.execute_input": "2021-10-27T13:35:24.109621Z",
     "iopub.status.busy": "2021-10-27T13:35:24.108535Z",
     "iopub.status.idle": "2021-10-27T13:35:24.114750Z",
     "shell.execute_reply": "2021-10-27T13:35:24.114082Z",
     "shell.execute_reply.started": "2021-10-27T13:26:41.976682Z"
    },
    "papermill": {
     "duration": 0.031772,
     "end_time": "2021-10-27T13:35:24.114945",
     "exception": false,
     "start_time": "2021-10-27T13:35:24.083173",
     "status": "completed"
    },
    "tags": []
   },
   "outputs": [
    {
     "data": {
      "application/javascript": [
       "parent.postMessage({\"jupyterEvent\": \"custom.exercise_interaction\", \"data\": {\"outcomeType\": 1, \"valueTowardsCompletion\": 0.5, \"interactionType\": 1, \"questionType\": 2, \"questionId\": \"1.3_Model1C\", \"learnToolsVersion\": \"0.3.4\", \"failureMessage\": \"\", \"exceptionClass\": \"\", \"trace\": \"\"}}, \"*\")"
      ],
      "text/plain": [
       "<IPython.core.display.Javascript object>"
      ]
     },
     "metadata": {},
     "output_type": "display_data"
    },
    {
     "data": {
      "text/markdown": [
       "<span style=\"color:#33cc33\">Correct</span>"
      ],
      "text/plain": [
       "Correct"
      ]
     },
     "metadata": {},
     "output_type": "display_data"
    }
   ],
   "source": [
    "# Calculate MAE\n",
    "mae_1 = mean_absolute_error(predictions_1, y_valid) # Your code here\n",
    "\n",
    "# Uncomment to print MAE\n",
    "# print(\"Mean Absolute Error:\" , mae_1)\n",
    "\n",
    "# Check your answer\n",
    "step_1.c.check()"
   ]
  },
  {
   "cell_type": "code",
   "execution_count": 8,
   "id": "d84fe539",
   "metadata": {
    "execution": {
     "iopub.execute_input": "2021-10-27T13:35:24.159239Z",
     "iopub.status.busy": "2021-10-27T13:35:24.158156Z",
     "iopub.status.idle": "2021-10-27T13:35:24.160143Z",
     "shell.execute_reply": "2021-10-27T13:35:24.160653Z",
     "shell.execute_reply.started": "2021-10-27T13:26:43.545445Z"
    },
    "papermill": {
     "duration": 0.026544,
     "end_time": "2021-10-27T13:35:24.160869",
     "exception": false,
     "start_time": "2021-10-27T13:35:24.134325",
     "status": "completed"
    },
    "tags": []
   },
   "outputs": [],
   "source": [
    "# Lines below will give you a hint or solution code\n",
    "#step_1.c.hint()\n",
    "#step_1.c.solution()"
   ]
  },
  {
   "cell_type": "markdown",
   "id": "50eb9bce",
   "metadata": {
    "papermill": {
     "duration": 0.019324,
     "end_time": "2021-10-27T13:35:24.200352",
     "exception": false,
     "start_time": "2021-10-27T13:35:24.181028",
     "status": "completed"
    },
    "tags": []
   },
   "source": [
    "# Step 2: Improve the model\n",
    "\n",
    "Now that you've trained a default model as baseline, it's time to tinker with the parameters, to see if you can get better performance!\n",
    "- Begin by setting `my_model_2` to an XGBoost model, using the [XGBRegressor](https://xgboost.readthedocs.io/en/latest/python/python_api.html#xgboost.XGBRegressor) class.  Use what you learned in the previous tutorial to figure out how to change the default parameters (like `n_estimators` and `learning_rate`) to get better results.\n",
    "- Then, fit the model to the training data in `X_train` and `y_train`.\n",
    "- Set `predictions_2` to the model's predictions for the validation data.  Recall that the validation features are stored in `X_valid`.\n",
    "- Finally, use the `mean_absolute_error()` function to calculate the mean absolute error (MAE) corresponding to the predictions on the validation set.  Recall that the labels for the validation data are stored in `y_valid`.\n",
    "\n",
    "In order for this step to be marked correct, your model in `my_model_2` must attain lower MAE than the model in `my_model_1`. "
   ]
  },
  {
   "cell_type": "code",
   "execution_count": 9,
   "id": "05c63049",
   "metadata": {
    "execution": {
     "iopub.execute_input": "2021-10-27T13:35:24.243253Z",
     "iopub.status.busy": "2021-10-27T13:35:24.242274Z",
     "iopub.status.idle": "2021-10-27T13:35:27.734267Z",
     "shell.execute_reply": "2021-10-27T13:35:27.734845Z",
     "shell.execute_reply.started": "2021-10-27T13:32:04.637598Z"
    },
    "papermill": {
     "duration": 3.515451,
     "end_time": "2021-10-27T13:35:27.735076",
     "exception": false,
     "start_time": "2021-10-27T13:35:24.219625",
     "status": "completed"
    },
    "tags": []
   },
   "outputs": [
    {
     "name": "stdout",
     "output_type": "stream",
     "text": [
      "Mean Absolute Error: 17308.203793878423\n"
     ]
    },
    {
     "data": {
      "application/javascript": [
       "parent.postMessage({\"jupyterEvent\": \"custom.exercise_interaction\", \"data\": {\"outcomeType\": 1, \"valueTowardsCompletion\": 0.5, \"interactionType\": 1, \"questionType\": 2, \"questionId\": \"2_Model2\", \"learnToolsVersion\": \"0.3.4\", \"failureMessage\": \"\", \"exceptionClass\": \"\", \"trace\": \"\"}}, \"*\")"
      ],
      "text/plain": [
       "<IPython.core.display.Javascript object>"
      ]
     },
     "metadata": {},
     "output_type": "display_data"
    },
    {
     "data": {
      "text/markdown": [
       "<span style=\"color:#33cc33\">Correct</span>"
      ],
      "text/plain": [
       "Correct"
      ]
     },
     "metadata": {},
     "output_type": "display_data"
    }
   ],
   "source": [
    "# Define the model\n",
    "my_model_2 =  XGBRegressor(n_estimators=500, learning_rate=0.1) # Your code here\n",
    "\n",
    "# Fit the model\n",
    "my_model_2.fit(X_train, y_train) # Your code here\n",
    "\n",
    "# Get predictions\n",
    "predictions_2 = my_model_2.predict(X_valid) # Your code here\n",
    "\n",
    "# Calculate MAE\n",
    "mae_2 = mean_absolute_error(predictions_2, y_valid) # Your code here\n",
    "\n",
    "# Uncomment to print MAE\n",
    "print(\"Mean Absolute Error:\" , mae_2)\n",
    "\n",
    "# Check your answer\n",
    "step_2.check()"
   ]
  },
  {
   "cell_type": "code",
   "execution_count": 10,
   "id": "6a6b9bd5",
   "metadata": {
    "execution": {
     "iopub.execute_input": "2021-10-27T13:35:27.781362Z",
     "iopub.status.busy": "2021-10-27T13:35:27.780357Z",
     "iopub.status.idle": "2021-10-27T13:35:27.782917Z",
     "shell.execute_reply": "2021-10-27T13:35:27.782270Z",
     "shell.execute_reply.started": "2021-10-27T13:32:26.825819Z"
    },
    "papermill": {
     "duration": 0.026503,
     "end_time": "2021-10-27T13:35:27.783059",
     "exception": false,
     "start_time": "2021-10-27T13:35:27.756556",
     "status": "completed"
    },
    "tags": []
   },
   "outputs": [],
   "source": [
    "# Lines below will give you a hint or solution code\n",
    "#step_2.hint()\n",
    "#step_2.solution()"
   ]
  },
  {
   "cell_type": "markdown",
   "id": "8320cc9c",
   "metadata": {
    "papermill": {
     "duration": 0.01975,
     "end_time": "2021-10-27T13:35:27.823371",
     "exception": false,
     "start_time": "2021-10-27T13:35:27.803621",
     "status": "completed"
    },
    "tags": []
   },
   "source": [
    "# Step 3: Break the model\n",
    "\n",
    "In this step, you will create a model that performs worse than the original model in Step 1.  This will help you to develop your intuition for how to set parameters.  You might even find that you accidentally get better performance, which is ultimately a nice problem to have and a valuable learning experience!\n",
    "- Begin by setting `my_model_3` to an XGBoost model, using the [XGBRegressor](https://xgboost.readthedocs.io/en/latest/python/python_api.html#xgboost.XGBRegressor) class.  Use what you learned in the previous tutorial to figure out how to change the default parameters (like `n_estimators` and `learning_rate`) to design a model to get high MAE.\n",
    "- Then, fit the model to the training data in `X_train` and `y_train`.\n",
    "- Set `predictions_3` to the model's predictions for the validation data.  Recall that the validation features are stored in `X_valid`.\n",
    "- Finally, use the `mean_absolute_error()` function to calculate the mean absolute error (MAE) corresponding to the predictions on the validation set.  Recall that the labels for the validation data are stored in `y_valid`.\n",
    "\n",
    "In order for this step to be marked correct, your model in `my_model_3` must attain higher MAE than the model in `my_model_1`. "
   ]
  },
  {
   "cell_type": "code",
   "execution_count": 11,
   "id": "bd9615cf",
   "metadata": {
    "execution": {
     "iopub.execute_input": "2021-10-27T13:35:27.867472Z",
     "iopub.status.busy": "2021-10-27T13:35:27.866420Z",
     "iopub.status.idle": "2021-10-27T13:35:27.906514Z",
     "shell.execute_reply": "2021-10-27T13:35:27.907100Z",
     "shell.execute_reply.started": "2021-10-27T13:34:12.210374Z"
    },
    "papermill": {
     "duration": 0.064,
     "end_time": "2021-10-27T13:35:27.907296",
     "exception": false,
     "start_time": "2021-10-27T13:35:27.843296",
     "status": "completed"
    },
    "tags": []
   },
   "outputs": [
    {
     "name": "stdout",
     "output_type": "stream",
     "text": [
      "Mean Absolute Error: 127895.0828807256\n"
     ]
    },
    {
     "data": {
      "application/javascript": [
       "parent.postMessage({\"jupyterEvent\": \"custom.exercise_interaction\", \"data\": {\"outcomeType\": 1, \"valueTowardsCompletion\": 0.5, \"interactionType\": 1, \"questionType\": 2, \"questionId\": \"3_Model3\", \"learnToolsVersion\": \"0.3.4\", \"failureMessage\": \"\", \"exceptionClass\": \"\", \"trace\": \"\"}}, \"*\")"
      ],
      "text/plain": [
       "<IPython.core.display.Javascript object>"
      ]
     },
     "metadata": {},
     "output_type": "display_data"
    },
    {
     "data": {
      "text/markdown": [
       "<span style=\"color:#33cc33\">Correct</span>"
      ],
      "text/plain": [
       "Correct"
      ]
     },
     "metadata": {},
     "output_type": "display_data"
    }
   ],
   "source": [
    "# Define the model\n",
    "my_model_3 = XGBRegressor(n_estimators=1) # Your code here\n",
    "\n",
    "# Fit the model\n",
    "my_model_3.fit(X_train, y_train) # Your code here\n",
    "\n",
    "# Get predictions\n",
    "predictions_3 = my_model_3.predict(X_valid) # Your code here\n",
    "\n",
    "# Calculate MAE\n",
    "mae_3 = mean_absolute_error(predictions_3, y_valid) # Your code here\n",
    "\n",
    "# Uncomment to print MAE\n",
    "print(\"Mean Absolute Error:\" , mae_3)\n",
    "\n",
    "# Check your answer\n",
    "step_3.check()"
   ]
  },
  {
   "cell_type": "code",
   "execution_count": 12,
   "id": "d76bda17",
   "metadata": {
    "execution": {
     "iopub.execute_input": "2021-10-27T13:35:27.956768Z",
     "iopub.status.busy": "2021-10-27T13:35:27.955788Z",
     "iopub.status.idle": "2021-10-27T13:35:27.959595Z",
     "shell.execute_reply": "2021-10-27T13:35:27.958982Z",
     "shell.execute_reply.started": "2021-10-27T13:34:18.111086Z"
    },
    "papermill": {
     "duration": 0.029457,
     "end_time": "2021-10-27T13:35:27.959757",
     "exception": false,
     "start_time": "2021-10-27T13:35:27.930300",
     "status": "completed"
    },
    "tags": []
   },
   "outputs": [],
   "source": [
    "# Lines below will give you a hint or solution code\n",
    "#step_3.hint()\n",
    "#step_3.solution()"
   ]
  },
  {
   "cell_type": "markdown",
   "id": "95a7503e",
   "metadata": {
    "papermill": {
     "duration": 0.02158,
     "end_time": "2021-10-27T13:35:28.003340",
     "exception": false,
     "start_time": "2021-10-27T13:35:27.981760",
     "status": "completed"
    },
    "tags": []
   },
   "source": [
    "# Keep going\n",
    "\n",
    "Continue to learn about **[data leakage](https://www.kaggle.com/alexisbcook/data-leakage)**.  This is an important issue for a data scientist to understand, and it has the potential to ruin your models in subtle and dangerous ways!"
   ]
  }
 ],
 "metadata": {
  "kernelspec": {
   "display_name": "Python 3",
   "language": "python",
   "name": "python3"
  },
  "language_info": {
   "codemirror_mode": {
    "name": "ipython",
    "version": 3
   },
   "file_extension": ".py",
   "mimetype": "text/x-python",
   "name": "python",
   "nbconvert_exporter": "python",
   "pygments_lexer": "ipython3",
   "version": "3.7.10"
  },
  "papermill": {
   "default_parameters": {},
   "duration": 17.715983,
   "end_time": "2021-10-27T13:35:28.739063",
   "environment_variables": {},
   "exception": null,
   "input_path": "__notebook__.ipynb",
   "output_path": "__notebook__.ipynb",
   "parameters": {},
   "start_time": "2021-10-27T13:35:11.023080",
   "version": "2.3.3"
  }
 },
 "nbformat": 4,
 "nbformat_minor": 5
}
